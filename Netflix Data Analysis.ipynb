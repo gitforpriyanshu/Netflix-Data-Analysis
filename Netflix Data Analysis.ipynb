{
 "cells": [
  {
   "cell_type": "markdown",
   "id": "645bcd1b-c5a3-40a4-aa51-4ebab4cdb658",
   "metadata": {
    "scrolled": true
   },
   "source": [
    "<h2> NETFLIX DATA ANALYSIS <h2>"
   ]
  },
  {
   "cell_type": "code",
   "execution_count": 1,
   "id": "ab0a3980-c3fd-41c6-b0f1-2d71e69250eb",
   "metadata": {},
   "outputs": [],
   "source": [
    "# Importing Required libraries\n",
    "\n",
    "import pandas as pd\n",
    "import numpy as np\n",
    "import seaborn as sns\n",
    "import matplotlib.pyplot as plt"
   ]
  },
  {
   "cell_type": "code",
   "execution_count": 2,
   "id": "70a5e618-b972-45db-b8e3-2511e66d8514",
   "metadata": {},
   "outputs": [],
   "source": [
    "# Loading the dataset\n",
    "\n",
    "df = pd.read_csv(\"/Users/priyanshu/Desktop/projects/Netflix Data Analysis/netflix_dataset.csv\")"
   ]
  },
  {
   "cell_type": "code",
   "execution_count": 3,
   "id": "cbe08436-4e3d-40fd-9f2b-bc2dbfa89c39",
   "metadata": {},
   "outputs": [
    {
     "name": "stdout",
     "output_type": "stream",
     "text": [
      "Total number of rows are : 7789\n",
      "Total number of columns are : 11\n"
     ]
    }
   ],
   "source": [
    "# Checking the count of rows and columns\n",
    "\n",
    "total_number_of_rows = df.shape[0]\n",
    "total_number_of_columns = df.shape[1]\n",
    "\n",
    "\n",
    "print(f\"Total number of rows are : {total_number_of_rows}\")\n",
    "print(f\"Total number of columns are : {total_number_of_columns}\")"
   ]
  },
  {
   "cell_type": "code",
   "execution_count": 4,
   "id": "21fd1f03-0322-4a45-826c-f50552949bdc",
   "metadata": {},
   "outputs": [
    {
     "data": {
      "text/html": [
       "<div>\n",
       "<style scoped>\n",
       "    .dataframe tbody tr th:only-of-type {\n",
       "        vertical-align: middle;\n",
       "    }\n",
       "\n",
       "    .dataframe tbody tr th {\n",
       "        vertical-align: top;\n",
       "    }\n",
       "\n",
       "    .dataframe thead th {\n",
       "        text-align: right;\n",
       "    }\n",
       "</style>\n",
       "<table border=\"1\" class=\"dataframe\">\n",
       "  <thead>\n",
       "    <tr style=\"text-align: right;\">\n",
       "      <th></th>\n",
       "      <th>Show_Id</th>\n",
       "      <th>Category</th>\n",
       "      <th>Title</th>\n",
       "      <th>Director</th>\n",
       "      <th>Cast</th>\n",
       "      <th>Country</th>\n",
       "      <th>Release_Date</th>\n",
       "      <th>Rating</th>\n",
       "      <th>Duration</th>\n",
       "      <th>Type</th>\n",
       "      <th>Description</th>\n",
       "    </tr>\n",
       "  </thead>\n",
       "  <tbody>\n",
       "    <tr>\n",
       "      <th>0</th>\n",
       "      <td>s1</td>\n",
       "      <td>TV Show</td>\n",
       "      <td>3%</td>\n",
       "      <td>NaN</td>\n",
       "      <td>João Miguel, Bianca Comparato, Michel Gomes, R...</td>\n",
       "      <td>Brazil</td>\n",
       "      <td>August 14, 2020</td>\n",
       "      <td>TV-MA</td>\n",
       "      <td>4 Seasons</td>\n",
       "      <td>International TV Shows, TV Dramas, TV Sci-Fi &amp;...</td>\n",
       "      <td>In a future where the elite inhabit an island ...</td>\n",
       "    </tr>\n",
       "    <tr>\n",
       "      <th>1</th>\n",
       "      <td>s2</td>\n",
       "      <td>Movie</td>\n",
       "      <td>07:19</td>\n",
       "      <td>Jorge Michel Grau</td>\n",
       "      <td>Demián Bichir, Héctor Bonilla, Oscar Serrano, ...</td>\n",
       "      <td>Mexico</td>\n",
       "      <td>December 23, 2016</td>\n",
       "      <td>TV-MA</td>\n",
       "      <td>93 min</td>\n",
       "      <td>Dramas, International Movies</td>\n",
       "      <td>After a devastating earthquake hits Mexico Cit...</td>\n",
       "    </tr>\n",
       "    <tr>\n",
       "      <th>2</th>\n",
       "      <td>s3</td>\n",
       "      <td>Movie</td>\n",
       "      <td>23:59</td>\n",
       "      <td>Gilbert Chan</td>\n",
       "      <td>Tedd Chan, Stella Chung, Henley Hii, Lawrence ...</td>\n",
       "      <td>Singapore</td>\n",
       "      <td>December 20, 2018</td>\n",
       "      <td>R</td>\n",
       "      <td>78 min</td>\n",
       "      <td>Horror Movies, International Movies</td>\n",
       "      <td>When an army recruit is found dead, his fellow...</td>\n",
       "    </tr>\n",
       "    <tr>\n",
       "      <th>3</th>\n",
       "      <td>s4</td>\n",
       "      <td>Movie</td>\n",
       "      <td>9</td>\n",
       "      <td>Shane Acker</td>\n",
       "      <td>Elijah Wood, John C. Reilly, Jennifer Connelly...</td>\n",
       "      <td>United States</td>\n",
       "      <td>November 16, 2017</td>\n",
       "      <td>PG-13</td>\n",
       "      <td>80 min</td>\n",
       "      <td>Action &amp; Adventure, Independent Movies, Sci-Fi...</td>\n",
       "      <td>In a postapocalyptic world, rag-doll robots hi...</td>\n",
       "    </tr>\n",
       "    <tr>\n",
       "      <th>4</th>\n",
       "      <td>s5</td>\n",
       "      <td>Movie</td>\n",
       "      <td>21</td>\n",
       "      <td>Robert Luketic</td>\n",
       "      <td>Jim Sturgess, Kevin Spacey, Kate Bosworth, Aar...</td>\n",
       "      <td>United States</td>\n",
       "      <td>January 1, 2020</td>\n",
       "      <td>PG-13</td>\n",
       "      <td>123 min</td>\n",
       "      <td>Dramas</td>\n",
       "      <td>A brilliant group of students become card-coun...</td>\n",
       "    </tr>\n",
       "  </tbody>\n",
       "</table>\n",
       "</div>"
      ],
      "text/plain": [
       "  Show_Id Category  Title           Director  \\\n",
       "0      s1  TV Show     3%                NaN   \n",
       "1      s2    Movie  07:19  Jorge Michel Grau   \n",
       "2      s3    Movie  23:59       Gilbert Chan   \n",
       "3      s4    Movie      9        Shane Acker   \n",
       "4      s5    Movie     21     Robert Luketic   \n",
       "\n",
       "                                                Cast        Country  \\\n",
       "0  João Miguel, Bianca Comparato, Michel Gomes, R...         Brazil   \n",
       "1  Demián Bichir, Héctor Bonilla, Oscar Serrano, ...         Mexico   \n",
       "2  Tedd Chan, Stella Chung, Henley Hii, Lawrence ...      Singapore   \n",
       "3  Elijah Wood, John C. Reilly, Jennifer Connelly...  United States   \n",
       "4  Jim Sturgess, Kevin Spacey, Kate Bosworth, Aar...  United States   \n",
       "\n",
       "        Release_Date Rating   Duration  \\\n",
       "0    August 14, 2020  TV-MA  4 Seasons   \n",
       "1  December 23, 2016  TV-MA     93 min   \n",
       "2  December 20, 2018      R     78 min   \n",
       "3  November 16, 2017  PG-13     80 min   \n",
       "4    January 1, 2020  PG-13    123 min   \n",
       "\n",
       "                                                Type  \\\n",
       "0  International TV Shows, TV Dramas, TV Sci-Fi &...   \n",
       "1                       Dramas, International Movies   \n",
       "2                Horror Movies, International Movies   \n",
       "3  Action & Adventure, Independent Movies, Sci-Fi...   \n",
       "4                                             Dramas   \n",
       "\n",
       "                                         Description  \n",
       "0  In a future where the elite inhabit an island ...  \n",
       "1  After a devastating earthquake hits Mexico Cit...  \n",
       "2  When an army recruit is found dead, his fellow...  \n",
       "3  In a postapocalyptic world, rag-doll robots hi...  \n",
       "4  A brilliant group of students become card-coun...  "
      ]
     },
     "execution_count": 4,
     "metadata": {},
     "output_type": "execute_result"
    }
   ],
   "source": [
    "# Peeking into top 5 records\n",
    "\n",
    "df.head()"
   ]
  },
  {
   "cell_type": "code",
   "execution_count": 5,
   "id": "716ecbd6-2a24-4ff1-9585-ff3556320c2a",
   "metadata": {},
   "outputs": [
    {
     "data": {
      "text/plain": [
       "85679"
      ]
     },
     "execution_count": 5,
     "metadata": {},
     "output_type": "execute_result"
    }
   ],
   "source": [
    "df.size"
   ]
  },
  {
   "cell_type": "code",
   "execution_count": 6,
   "id": "54b81eff-cc5a-4adf-aca0-6410f4eca31f",
   "metadata": {},
   "outputs": [
    {
     "data": {
      "text/plain": [
       "Index(['Show_Id', 'Category', 'Title', 'Director', 'Cast', 'Country',\n",
       "       'Release_Date', 'Rating', 'Duration', 'Type', 'Description'],\n",
       "      dtype='object')"
      ]
     },
     "execution_count": 6,
     "metadata": {},
     "output_type": "execute_result"
    }
   ],
   "source": [
    "# Getting all the columns\n",
    "\n",
    "df.columns"
   ]
  },
  {
   "cell_type": "code",
   "execution_count": 7,
   "id": "4f2fff50-55b9-4ec5-98ac-eea40dd94756",
   "metadata": {},
   "outputs": [
    {
     "data": {
      "text/plain": [
       "Show_Id         object\n",
       "Category        object\n",
       "Title           object\n",
       "Director        object\n",
       "Cast            object\n",
       "Country         object\n",
       "Release_Date    object\n",
       "Rating          object\n",
       "Duration        object\n",
       "Type            object\n",
       "Description     object\n",
       "dtype: object"
      ]
     },
     "execution_count": 7,
     "metadata": {},
     "output_type": "execute_result"
    }
   ],
   "source": [
    "# Checking the data types of all the columns of a dataset\n",
    "\n",
    "df.dtypes"
   ]
  },
  {
   "cell_type": "code",
   "execution_count": 8,
   "id": "144ef3af-ffde-4ede-8dee-b5c8554b8e7f",
   "metadata": {},
   "outputs": [
    {
     "name": "stdout",
     "output_type": "stream",
     "text": [
      "<class 'pandas.core.frame.DataFrame'>\n",
      "RangeIndex: 7789 entries, 0 to 7788\n",
      "Data columns (total 11 columns):\n",
      " #   Column        Non-Null Count  Dtype \n",
      "---  ------        --------------  ----- \n",
      " 0   Show_Id       7789 non-null   object\n",
      " 1   Category      7789 non-null   object\n",
      " 2   Title         7789 non-null   object\n",
      " 3   Director      5401 non-null   object\n",
      " 4   Cast          7071 non-null   object\n",
      " 5   Country       7282 non-null   object\n",
      " 6   Release_Date  7779 non-null   object\n",
      " 7   Rating        7782 non-null   object\n",
      " 8   Duration      7789 non-null   object\n",
      " 9   Type          7789 non-null   object\n",
      " 10  Description   7789 non-null   object\n",
      "dtypes: object(11)\n",
      "memory usage: 669.5+ KB\n"
     ]
    }
   ],
   "source": [
    "# Checking for info\n",
    "\n",
    "df.info()"
   ]
  },
  {
   "cell_type": "code",
   "execution_count": 9,
   "id": "b01e63de-4a86-47b5-b157-f1eeca5c28e5",
   "metadata": {},
   "outputs": [],
   "source": [
    "# Checking for any duplicates in the dataset"
   ]
  },
  {
   "cell_type": "code",
   "execution_count": 10,
   "id": "943a7ec1-9919-4148-9a41-3dabfdd6d36b",
   "metadata": {},
   "outputs": [
    {
     "name": "stdout",
     "output_type": "stream",
     "text": [
      "There are 2 duplicate records\n"
     ]
    }
   ],
   "source": [
    "# Checking the number of duplicate records\n",
    "\n",
    "duplicates = df.duplicated().sum()\n",
    "\n",
    "print(f\"There are {duplicates} duplicate records\")"
   ]
  },
  {
   "cell_type": "code",
   "execution_count": 11,
   "id": "c807350a-48e9-4bf7-89dc-884cbefd2051",
   "metadata": {},
   "outputs": [
    {
     "data": {
      "text/html": [
       "<div>\n",
       "<style scoped>\n",
       "    .dataframe tbody tr th:only-of-type {\n",
       "        vertical-align: middle;\n",
       "    }\n",
       "\n",
       "    .dataframe tbody tr th {\n",
       "        vertical-align: top;\n",
       "    }\n",
       "\n",
       "    .dataframe thead th {\n",
       "        text-align: right;\n",
       "    }\n",
       "</style>\n",
       "<table border=\"1\" class=\"dataframe\">\n",
       "  <thead>\n",
       "    <tr style=\"text-align: right;\">\n",
       "      <th></th>\n",
       "      <th>Show_Id</th>\n",
       "      <th>Category</th>\n",
       "      <th>Title</th>\n",
       "      <th>Director</th>\n",
       "      <th>Cast</th>\n",
       "      <th>Country</th>\n",
       "      <th>Release_Date</th>\n",
       "      <th>Rating</th>\n",
       "      <th>Duration</th>\n",
       "      <th>Type</th>\n",
       "      <th>Description</th>\n",
       "    </tr>\n",
       "  </thead>\n",
       "  <tbody>\n",
       "    <tr>\n",
       "      <th>6300</th>\n",
       "      <td>s684</td>\n",
       "      <td>Movie</td>\n",
       "      <td>Backfire</td>\n",
       "      <td>Dave Patten</td>\n",
       "      <td>Black Deniro, Byron \"Squally\" Vinson, Dominic ...</td>\n",
       "      <td>United States</td>\n",
       "      <td>April 5, 2019</td>\n",
       "      <td>TV-MA</td>\n",
       "      <td>97 min</td>\n",
       "      <td>Dramas, Independent Movies, Thrillers</td>\n",
       "      <td>When two would-be robbers accidentally kill a ...</td>\n",
       "    </tr>\n",
       "    <tr>\n",
       "      <th>6622</th>\n",
       "      <td>s6621</td>\n",
       "      <td>Movie</td>\n",
       "      <td>The Lost Okoroshi</td>\n",
       "      <td>Abba T. Makama</td>\n",
       "      <td>Seun Ajayi, Judith Audu, Tope Tedela, Ifu Enna...</td>\n",
       "      <td>Nigeria</td>\n",
       "      <td>September 4, 2020</td>\n",
       "      <td>TV-MA</td>\n",
       "      <td>94 min</td>\n",
       "      <td>Comedies, Dramas, Independent Movies</td>\n",
       "      <td>A disillusioned security guard transforms into...</td>\n",
       "    </tr>\n",
       "  </tbody>\n",
       "</table>\n",
       "</div>"
      ],
      "text/plain": [
       "     Show_Id Category              Title        Director  \\\n",
       "6300    s684    Movie           Backfire     Dave Patten   \n",
       "6622   s6621    Movie  The Lost Okoroshi  Abba T. Makama   \n",
       "\n",
       "                                                   Cast        Country  \\\n",
       "6300  Black Deniro, Byron \"Squally\" Vinson, Dominic ...  United States   \n",
       "6622  Seun Ajayi, Judith Audu, Tope Tedela, Ifu Enna...        Nigeria   \n",
       "\n",
       "           Release_Date Rating Duration  \\\n",
       "6300      April 5, 2019  TV-MA   97 min   \n",
       "6622  September 4, 2020  TV-MA   94 min   \n",
       "\n",
       "                                       Type  \\\n",
       "6300  Dramas, Independent Movies, Thrillers   \n",
       "6622   Comedies, Dramas, Independent Movies   \n",
       "\n",
       "                                            Description  \n",
       "6300  When two would-be robbers accidentally kill a ...  \n",
       "6622  A disillusioned security guard transforms into...  "
      ]
     },
     "execution_count": 11,
     "metadata": {},
     "output_type": "execute_result"
    }
   ],
   "source": [
    "# Find the duplicate records\n",
    "\n",
    "df[df.duplicated()]"
   ]
  },
  {
   "cell_type": "code",
   "execution_count": 12,
   "id": "f49b5212-d136-460a-b224-c4c6295d719b",
   "metadata": {},
   "outputs": [],
   "source": [
    "# Remove duplicate records\n",
    "\n",
    "df.drop_duplicates(inplace = True)"
   ]
  },
  {
   "cell_type": "code",
   "execution_count": 13,
   "id": "5319f653-0dc2-42b7-aaf8-4e6ef0a7caba",
   "metadata": {},
   "outputs": [
    {
     "name": "stdout",
     "output_type": "stream",
     "text": [
      "There are 0 duplicate records\n"
     ]
    }
   ],
   "source": [
    "# Checking if the duplicate records are dropped\n",
    "\n",
    "duplicates = df.duplicated().sum()\n",
    "\n",
    "print(f\"There are {duplicates} duplicate records\")"
   ]
  },
  {
   "cell_type": "code",
   "execution_count": 14,
   "id": "6177f6ef-ca49-4599-a06b-1e263970c52d",
   "metadata": {},
   "outputs": [],
   "source": [
    "# Checking for NULL values in the dataset"
   ]
  },
  {
   "cell_type": "code",
   "execution_count": 15,
   "id": "93c5a8e0-22ff-4d7c-b840-449fdf322ad6",
   "metadata": {},
   "outputs": [
    {
     "data": {
      "text/plain": [
       "Show_Id            0\n",
       "Category           0\n",
       "Title              0\n",
       "Director        2388\n",
       "Cast             718\n",
       "Country          507\n",
       "Release_Date      10\n",
       "Rating             7\n",
       "Duration           0\n",
       "Type               0\n",
       "Description        0\n",
       "dtype: int64"
      ]
     },
     "execution_count": 15,
     "metadata": {},
     "output_type": "execute_result"
    }
   ],
   "source": [
    "df.isnull().sum()"
   ]
  },
  {
   "cell_type": "code",
   "execution_count": 16,
   "id": "e3c3d93f-128a-4235-879a-4cd5f1605038",
   "metadata": {},
   "outputs": [
    {
     "data": {
      "image/png": "[encoded data removed]",
      "text/plain": [
       "<Figure size 640x480 with 2 Axes>"
      ]
     },
     "metadata": {},
     "output_type": "display_data"
    }
   ],
   "source": [
    "# Showing the NULL values in heatmap using seaborn library\n",
    "sns.heatmap(df.isnull())\n",
    "plt.show()"
   ]
  },
  {
   "cell_type": "code",
   "execution_count": 17,
   "id": "2a8f64f9-9835-4b7c-b04f-bfe700bf5d23",
   "metadata": {},
   "outputs": [
    {
     "data": {
      "text/html": [
       "<div>\n",
       "<style scoped>\n",
       "    .dataframe tbody tr th:only-of-type {\n",
       "        vertical-align: middle;\n",
       "    }\n",
       "\n",
       "    .dataframe tbody tr th {\n",
       "        vertical-align: top;\n",
       "    }\n",
       "\n",
       "    .dataframe thead th {\n",
       "        text-align: right;\n",
       "    }\n",
       "</style>\n",
       "<table border=\"1\" class=\"dataframe\">\n",
       "  <thead>\n",
       "    <tr style=\"text-align: right;\">\n",
       "      <th></th>\n",
       "      <th>Show_Id</th>\n",
       "      <th>Director</th>\n",
       "    </tr>\n",
       "  </thead>\n",
       "  <tbody>\n",
       "    <tr>\n",
       "      <th>2832</th>\n",
       "      <td>s2833</td>\n",
       "      <td>Robin Wright, David Fincher, Gerald McRaney, J...</td>\n",
       "    </tr>\n",
       "  </tbody>\n",
       "</table>\n",
       "</div>"
      ],
      "text/plain": [
       "     Show_Id                                           Director\n",
       "2832   s2833  Robin Wright, David Fincher, Gerald McRaney, J..."
      ]
     },
     "execution_count": 17,
     "metadata": {},
     "output_type": "execute_result"
    }
   ],
   "source": [
    "df[df.Title == \"House of Cards\"][['Show_Id', 'Director']]"
   ]
  },
  {
   "cell_type": "code",
   "execution_count": 18,
   "id": "30badfca-543f-4ff7-8ba3-eb708a18bb85",
   "metadata": {},
   "outputs": [
    {
     "data": {
      "text/html": [
       "<div>\n",
       "<style scoped>\n",
       "    .dataframe tbody tr th:only-of-type {\n",
       "        vertical-align: middle;\n",
       "    }\n",
       "\n",
       "    .dataframe tbody tr th {\n",
       "        vertical-align: top;\n",
       "    }\n",
       "\n",
       "    .dataframe thead th {\n",
       "        text-align: right;\n",
       "    }\n",
       "</style>\n",
       "<table border=\"1\" class=\"dataframe\">\n",
       "  <thead>\n",
       "    <tr style=\"text-align: right;\">\n",
       "      <th></th>\n",
       "      <th>Show_Id</th>\n",
       "      <th>Category</th>\n",
       "      <th>Title</th>\n",
       "      <th>Director</th>\n",
       "      <th>Cast</th>\n",
       "      <th>Country</th>\n",
       "      <th>Release_Date</th>\n",
       "      <th>Rating</th>\n",
       "      <th>Duration</th>\n",
       "      <th>Type</th>\n",
       "      <th>Description</th>\n",
       "    </tr>\n",
       "  </thead>\n",
       "  <tbody>\n",
       "    <tr>\n",
       "      <th>2832</th>\n",
       "      <td>s2833</td>\n",
       "      <td>TV Show</td>\n",
       "      <td>House of Cards</td>\n",
       "      <td>Robin Wright, David Fincher, Gerald McRaney, J...</td>\n",
       "      <td>Kevin Spacey, Robin Wright, Kate Mara, Corey S...</td>\n",
       "      <td>United States</td>\n",
       "      <td>November 2, 2018</td>\n",
       "      <td>TV-MA</td>\n",
       "      <td>6 Seasons</td>\n",
       "      <td>TV Dramas, TV Thrillers</td>\n",
       "      <td>A ruthless politician will stop at nothing to ...</td>\n",
       "    </tr>\n",
       "  </tbody>\n",
       "</table>\n",
       "</div>"
      ],
      "text/plain": [
       "     Show_Id Category           Title  \\\n",
       "2832   s2833  TV Show  House of Cards   \n",
       "\n",
       "                                               Director  \\\n",
       "2832  Robin Wright, David Fincher, Gerald McRaney, J...   \n",
       "\n",
       "                                                   Cast        Country  \\\n",
       "2832  Kevin Spacey, Robin Wright, Kate Mara, Corey S...  United States   \n",
       "\n",
       "          Release_Date Rating   Duration                     Type  \\\n",
       "2832  November 2, 2018  TV-MA  6 Seasons  TV Dramas, TV Thrillers   \n",
       "\n",
       "                                            Description  \n",
       "2832  A ruthless politician will stop at nothing to ...  "
      ]
     },
     "execution_count": 18,
     "metadata": {},
     "output_type": "execute_result"
    }
   ],
   "source": [
    "df[df.Title.str.contains(\"House of Cards\")]"
   ]
  },
  {
   "cell_type": "code",
   "execution_count": 19,
   "id": "3ef55b12-a266-41cd-8764-5d8460fe9c78",
   "metadata": {},
   "outputs": [],
   "source": [
    "# In which year highest TV Shows/ Movies were released"
   ]
  },
  {
   "cell_type": "code",
   "execution_count": 20,
   "id": "f49dd8f7-effd-426e-87d5-b0a921495169",
   "metadata": {},
   "outputs": [],
   "source": [
    "# as we have a Release_Date as object type lets create a new columnn with date_time format df['date_of_release']"
   ]
  },
  {
   "cell_type": "code",
   "execution_count": 21,
   "id": "89bc2073-3951-4cb3-9081-8da6a62b5d61",
   "metadata": {},
   "outputs": [],
   "source": [
    "# Creating a new column\n",
    "df['date_of_release'] = pd.to_datetime(df[\"Release_Date\"].str.strip(),format=\"%B %d, %Y\")"
   ]
  },
  {
   "cell_type": "code",
   "execution_count": 22,
   "id": "55625f81-6473-4db2-a8b3-fc0b95c08ba3",
   "metadata": {},
   "outputs": [],
   "source": [
    "df[\"year_of_release\"] = df.date_of_release.dt.year"
   ]
  },
  {
   "cell_type": "code",
   "execution_count": 23,
   "id": "2539a555-bb28-4b5f-ab16-bd7f1924e395",
   "metadata": {},
   "outputs": [
    {
     "data": {
      "text/plain": [
       "year_of_release\n",
       "2019.0    2153\n",
       "2020.0    2009\n",
       "2018.0    1685\n",
       "2017.0    1225\n",
       "2016.0     443\n",
       "2021.0     117\n",
       "2015.0      88\n",
       "2014.0      25\n",
       "2011.0      13\n",
       "2013.0      11\n",
       "2012.0       3\n",
       "2008.0       2\n",
       "2009.0       2\n",
       "2010.0       1\n",
       "Name: count, dtype: int64"
      ]
     },
     "execution_count": 23,
     "metadata": {},
     "output_type": "execute_result"
    }
   ],
   "source": [
    "# Applying count function to check the frequency each year\n",
    "df[\"year_of_release\"].value_counts()"
   ]
  },
  {
   "cell_type": "code",
   "execution_count": 24,
   "id": "1a905521-6ebb-49e3-bfa7-5b65c45d846a",
   "metadata": {},
   "outputs": [
    {
     "data": {
      "image/png": "[encoded data removed]",
      "text/plain": [
       "<Figure size 640x480 with 1 Axes>"
      ]
     },
     "metadata": {},
     "output_type": "display_data"
    }
   ],
   "source": [
    "# Lets create a Bar Graph for the same\n",
    "\n",
    "df[\"year_of_release\"].value_counts().plot(kind = \"bar\", color = ['r','b','g'])\n",
    "plt.title(\"Movies/TV Shows release count per year\")\n",
    "plt.xlabel(\"Year of Release\")\n",
    "plt.ylabel(\"Count\")\n",
    "plt.show()"
   ]
  },
  {
   "cell_type": "code",
   "execution_count": 25,
   "id": "e8f19f2e-3025-418a-8e38-6cae5a9e9075",
   "metadata": {},
   "outputs": [],
   "source": [
    "# Get number of TV Shows and Movies are present in the dataset and show with the pie chart"
   ]
  },
  {
   "cell_type": "code",
   "execution_count": 26,
   "id": "905fd4dd-4511-4740-801c-d68575ffa7c3",
   "metadata": {},
   "outputs": [
    {
     "data": {
      "image/png": "[encoded data removed]",
      "text/plain": [
       "<Figure size 640x480 with 1 Axes>"
      ]
     },
     "metadata": {},
     "output_type": "display_data"
    }
   ],
   "source": [
    "df['Category'].value_counts().plot(kind = 'pie')\n",
    "plt.title(\"Classification of TV Shows and Movies\")\n",
    "plt.show()"
   ]
  },
  {
   "cell_type": "markdown",
   "id": "c45886f8-5ade-49b6-b3a9-cae337e82682",
   "metadata": {},
   "source": [
    "# Show all the movies released in year 2020"
   ]
  },
  {
   "cell_type": "code",
   "execution_count": 27,
   "id": "48078cd0-2ce0-469c-b454-93052930e6c8",
   "metadata": {},
   "outputs": [
    {
     "data": {
      "text/html": [
       "<div>\n",
       "<style scoped>\n",
       "    .dataframe tbody tr th:only-of-type {\n",
       "        vertical-align: middle;\n",
       "    }\n",
       "\n",
       "    .dataframe tbody tr th {\n",
       "        vertical-align: top;\n",
       "    }\n",
       "\n",
       "    .dataframe thead th {\n",
       "        text-align: right;\n",
       "    }\n",
       "</style>\n",
       "<table border=\"1\" class=\"dataframe\">\n",
       "  <thead>\n",
       "    <tr style=\"text-align: right;\">\n",
       "      <th></th>\n",
       "      <th>Show_Id</th>\n",
       "      <th>Category</th>\n",
       "      <th>Title</th>\n",
       "      <th>Director</th>\n",
       "      <th>Cast</th>\n",
       "      <th>Country</th>\n",
       "      <th>Release_Date</th>\n",
       "      <th>Rating</th>\n",
       "      <th>Duration</th>\n",
       "      <th>Type</th>\n",
       "      <th>Description</th>\n",
       "      <th>date_of_release</th>\n",
       "      <th>year_of_release</th>\n",
       "    </tr>\n",
       "  </thead>\n",
       "  <tbody>\n",
       "    <tr>\n",
       "      <th>4</th>\n",
       "      <td>s5</td>\n",
       "      <td>Movie</td>\n",
       "      <td>21</td>\n",
       "      <td>Robert Luketic</td>\n",
       "      <td>Jim Sturgess, Kevin Spacey, Kate Bosworth, Aar...</td>\n",
       "      <td>United States</td>\n",
       "      <td>January 1, 2020</td>\n",
       "      <td>PG-13</td>\n",
       "      <td>123 min</td>\n",
       "      <td>Dramas</td>\n",
       "      <td>A brilliant group of students become card-coun...</td>\n",
       "      <td>2020-01-01</td>\n",
       "      <td>2020.0</td>\n",
       "    </tr>\n",
       "    <tr>\n",
       "      <th>6</th>\n",
       "      <td>s7</td>\n",
       "      <td>Movie</td>\n",
       "      <td>122</td>\n",
       "      <td>Yasir Al Yasiri</td>\n",
       "      <td>Amina Khalil, Ahmed Dawood, Tarek Lotfy, Ahmed...</td>\n",
       "      <td>Egypt</td>\n",
       "      <td>June 1, 2020</td>\n",
       "      <td>TV-MA</td>\n",
       "      <td>95 min</td>\n",
       "      <td>Horror Movies, International Movies</td>\n",
       "      <td>After an awful accident, a couple admitted to ...</td>\n",
       "      <td>2020-06-01</td>\n",
       "      <td>2020.0</td>\n",
       "    </tr>\n",
       "  </tbody>\n",
       "</table>\n",
       "</div>"
      ],
      "text/plain": [
       "  Show_Id Category Title         Director  \\\n",
       "4      s5    Movie    21   Robert Luketic   \n",
       "6      s7    Movie   122  Yasir Al Yasiri   \n",
       "\n",
       "                                                Cast        Country  \\\n",
       "4  Jim Sturgess, Kevin Spacey, Kate Bosworth, Aar...  United States   \n",
       "6  Amina Khalil, Ahmed Dawood, Tarek Lotfy, Ahmed...          Egypt   \n",
       "\n",
       "      Release_Date Rating Duration                                 Type  \\\n",
       "4  January 1, 2020  PG-13  123 min                               Dramas   \n",
       "6     June 1, 2020  TV-MA   95 min  Horror Movies, International Movies   \n",
       "\n",
       "                                         Description date_of_release  \\\n",
       "4  A brilliant group of students become card-coun...      2020-01-01   \n",
       "6  After an awful accident, a couple admitted to ...      2020-06-01   \n",
       "\n",
       "   year_of_release  \n",
       "4           2020.0  \n",
       "6           2020.0  "
      ]
     },
     "execution_count": 27,
     "metadata": {},
     "output_type": "execute_result"
    }
   ],
   "source": [
    "df_movies_2020 = df[(df[\"year_of_release\"] == 2020) & (df[\"Category\"] == \"Movie\")]\n",
    "df_movies_2020.head(2)"
   ]
  },
  {
   "cell_type": "code",
   "execution_count": 28,
   "id": "0d99c5c6-8c18-4c9f-b0dd-1a4ae73c7a79",
   "metadata": {},
   "outputs": [
    {
     "name": "stdout",
     "output_type": "stream",
     "text": [
      "There are 1312 movies available to watch on Netflix as per the dataset that are released in 2020\n"
     ]
    }
   ],
   "source": [
    "print(f\"There are {df_movies_2020.shape[0]} movies available to watch on Netflix as per the dataset that are released in 2020\")"
   ]
  },
  {
   "cell_type": "markdown",
   "id": "ad8cedc8-9e1b-4691-b7d0-e1d3fabb5d8a",
   "metadata": {},
   "source": [
    "# Show movies and TV Shows in India"
   ]
  },
  {
   "cell_type": "code",
   "execution_count": 29,
   "id": "f0f8fcf5-e681-4955-8160-27b4da890117",
   "metadata": {
    "scrolled": true
   },
   "outputs": [
    {
     "data": {
      "text/html": [
       "<div>\n",
       "<style scoped>\n",
       "    .dataframe tbody tr th:only-of-type {\n",
       "        vertical-align: middle;\n",
       "    }\n",
       "\n",
       "    .dataframe tbody tr th {\n",
       "        vertical-align: top;\n",
       "    }\n",
       "\n",
       "    .dataframe thead th {\n",
       "        text-align: right;\n",
       "    }\n",
       "</style>\n",
       "<table border=\"1\" class=\"dataframe\">\n",
       "  <thead>\n",
       "    <tr style=\"text-align: right;\">\n",
       "      <th></th>\n",
       "      <th>Show_Id</th>\n",
       "      <th>Category</th>\n",
       "      <th>Title</th>\n",
       "      <th>Director</th>\n",
       "      <th>Cast</th>\n",
       "      <th>Country</th>\n",
       "      <th>Release_Date</th>\n",
       "      <th>Rating</th>\n",
       "      <th>Duration</th>\n",
       "      <th>Type</th>\n",
       "      <th>Description</th>\n",
       "      <th>date_of_release</th>\n",
       "      <th>year_of_release</th>\n",
       "    </tr>\n",
       "  </thead>\n",
       "  <tbody>\n",
       "    <tr>\n",
       "      <th>8</th>\n",
       "      <td>s9</td>\n",
       "      <td>Movie</td>\n",
       "      <td>706</td>\n",
       "      <td>Shravan Kumar</td>\n",
       "      <td>Divya Dutta, Atul Kulkarni, Mohan Agashe, Anup...</td>\n",
       "      <td>India</td>\n",
       "      <td>April 1, 2019</td>\n",
       "      <td>TV-14</td>\n",
       "      <td>118 min</td>\n",
       "      <td>Horror Movies, International Movies</td>\n",
       "      <td>When a doctor goes missing, his psychiatrist w...</td>\n",
       "      <td>2019-04-01</td>\n",
       "      <td>2019.0</td>\n",
       "    </tr>\n",
       "    <tr>\n",
       "      <th>9</th>\n",
       "      <td>s10</td>\n",
       "      <td>Movie</td>\n",
       "      <td>1920</td>\n",
       "      <td>Vikram Bhatt</td>\n",
       "      <td>Rajneesh Duggal, Adah Sharma, Indraneil Sengup...</td>\n",
       "      <td>India</td>\n",
       "      <td>December 15, 2017</td>\n",
       "      <td>TV-MA</td>\n",
       "      <td>143 min</td>\n",
       "      <td>Horror Movies, International Movies, Thrillers</td>\n",
       "      <td>An architect and his wife move into a castle t...</td>\n",
       "      <td>2017-12-15</td>\n",
       "      <td>2017.0</td>\n",
       "    </tr>\n",
       "  </tbody>\n",
       "</table>\n",
       "</div>"
      ],
      "text/plain": [
       "  Show_Id Category Title       Director  \\\n",
       "8      s9    Movie   706  Shravan Kumar   \n",
       "9     s10    Movie  1920   Vikram Bhatt   \n",
       "\n",
       "                                                Cast Country  \\\n",
       "8  Divya Dutta, Atul Kulkarni, Mohan Agashe, Anup...   India   \n",
       "9  Rajneesh Duggal, Adah Sharma, Indraneil Sengup...   India   \n",
       "\n",
       "        Release_Date Rating Duration  \\\n",
       "8      April 1, 2019  TV-14  118 min   \n",
       "9  December 15, 2017  TV-MA  143 min   \n",
       "\n",
       "                                             Type  \\\n",
       "8             Horror Movies, International Movies   \n",
       "9  Horror Movies, International Movies, Thrillers   \n",
       "\n",
       "                                         Description date_of_release  \\\n",
       "8  When a doctor goes missing, his psychiatrist w...      2019-04-01   \n",
       "9  An architect and his wife move into a castle t...      2017-12-15   \n",
       "\n",
       "   year_of_release  \n",
       "8           2019.0  \n",
       "9           2017.0  "
      ]
     },
     "execution_count": 29,
     "metadata": {},
     "output_type": "execute_result"
    }
   ],
   "source": [
    "df_India = df[df.Country.str.contains('India', na = False)]\n",
    "df_India.head(2)"
   ]
  },
  {
   "cell_type": "code",
   "execution_count": 30,
   "id": "5ba77fb0-e4e3-4cd5-82e9-83ea1bc55901",
   "metadata": {},
   "outputs": [
    {
     "name": "stdout",
     "output_type": "stream",
     "text": [
      "There are total 990 items available to watch in India\n"
     ]
    }
   ],
   "source": [
    "print(f\"There are total {df_India.shape[0]} items available to watch in India\")"
   ]
  },
  {
   "cell_type": "markdown",
   "id": "03a7c9c1-bb2f-4e3c-b771-aa57d574c7f1",
   "metadata": {},
   "source": [
    "# Classify the TV Show and movie ratio in India"
   ]
  },
  {
   "cell_type": "code",
   "execution_count": 31,
   "id": "5874e34f-e8f3-4dda-b5ad-6c21f4dc0601",
   "metadata": {},
   "outputs": [
    {
     "data": {
      "text/plain": [
       "Category\n",
       "Movie      915\n",
       "TV Show     75\n",
       "Name: count, dtype: int64"
      ]
     },
     "execution_count": 31,
     "metadata": {},
     "output_type": "execute_result"
    }
   ],
   "source": [
    "df.Category[df.Country.str.contains('India', na = False)].value_counts()"
   ]
  },
  {
   "cell_type": "code",
   "execution_count": 32,
   "id": "569f9a91-9432-4833-8b4c-adabed9919ed",
   "metadata": {},
   "outputs": [
    {
     "data": {
      "image/png": "[encoded data removed]",
      "text/plain": [
       "<Figure size 640x480 with 1 Axes>"
      ]
     },
     "metadata": {},
     "output_type": "display_data"
    }
   ],
   "source": [
    "# Plot it in pie chart\n",
    "\n",
    "df.Category[df.Country.str.contains('India', na = False)].value_counts().plot(kind = 'pie')\n",
    "plt.title(\"Movie/ TV Show classification in India\")\n",
    "plt.show()"
   ]
  },
  {
   "cell_type": "markdown",
   "id": "51463480-6b74-4efd-8420-a5aae6b74095",
   "metadata": {},
   "source": [
    "# Show top 10 directors who give highest number of TV Shows/ Movies"
   ]
  },
  {
   "cell_type": "code",
   "execution_count": 33,
   "id": "2ed9f571-cbec-4523-a46d-6b33583394b0",
   "metadata": {},
   "outputs": [
    {
     "data": {
      "text/plain": [
       "Director\n",
       "Raúl Campos, Jan Suter    18\n",
       "Marcus Raboy              16\n",
       "Jay Karas                 14\n",
       "Cathy Garcia-Molina       13\n",
       "Jay Chapman               12\n",
       "Youssef Chahine           12\n",
       "Martin Scorsese           12\n",
       "Steven Spielberg          10\n",
       "David Dhawan               9\n",
       "Hakan Algül                8\n",
       "Name: count, dtype: int64"
      ]
     },
     "execution_count": 33,
     "metadata": {},
     "output_type": "execute_result"
    }
   ],
   "source": [
    "top_10_directors = df[\"Director\"].value_counts().head(10)\n",
    "top_10_directors"
   ]
  },
  {
   "cell_type": "code",
   "execution_count": 34,
   "id": "dbe16131-e2f6-4881-9366-9f1c69382bdd",
   "metadata": {},
   "outputs": [
    {
     "data": {
      "image/png": "[encoded data removed]",
      "text/plain": [
       "<Figure size 640x480 with 1 Axes>"
      ]
     },
     "metadata": {},
     "output_type": "display_data"
    }
   ],
   "source": [
    "top_10_directors.plot(kind = 'bar')\n",
    "plt.show()"
   ]
  },
  {
   "cell_type": "code",
   "execution_count": 35,
   "id": "bfa88e8a-62d2-4609-8a71-b5e32045589d",
   "metadata": {},
   "outputs": [],
   "source": [
    "# Get all the Movies that are comedy or comedies (genre) movies"
   ]
  },
  {
   "cell_type": "code",
   "execution_count": 36,
   "id": "a420893c-d8a7-4850-9b2c-d56554e10cf2",
   "metadata": {},
   "outputs": [
    {
     "data": {
      "text/html": [
       "<div>\n",
       "<style scoped>\n",
       "    .dataframe tbody tr th:only-of-type {\n",
       "        vertical-align: middle;\n",
       "    }\n",
       "\n",
       "    .dataframe tbody tr th {\n",
       "        vertical-align: top;\n",
       "    }\n",
       "\n",
       "    .dataframe thead th {\n",
       "        text-align: right;\n",
       "    }\n",
       "</style>\n",
       "<table border=\"1\" class=\"dataframe\">\n",
       "  <thead>\n",
       "    <tr style=\"text-align: right;\">\n",
       "      <th></th>\n",
       "      <th>Show_Id</th>\n",
       "      <th>Category</th>\n",
       "      <th>Title</th>\n",
       "      <th>Director</th>\n",
       "      <th>Cast</th>\n",
       "      <th>Country</th>\n",
       "      <th>Release_Date</th>\n",
       "      <th>Rating</th>\n",
       "      <th>Duration</th>\n",
       "      <th>Type</th>\n",
       "      <th>Description</th>\n",
       "      <th>date_of_release</th>\n",
       "      <th>year_of_release</th>\n",
       "    </tr>\n",
       "  </thead>\n",
       "  <tbody>\n",
       "    <tr>\n",
       "      <th>18</th>\n",
       "      <td>s19</td>\n",
       "      <td>Movie</td>\n",
       "      <td>15-Aug</td>\n",
       "      <td>Swapnaneel Jayakar</td>\n",
       "      <td>Rahul Pethe, Mrunmayee Deshpande, Adinath Koth...</td>\n",
       "      <td>India</td>\n",
       "      <td>March 29, 2019</td>\n",
       "      <td>TV-14</td>\n",
       "      <td>124 min</td>\n",
       "      <td>Comedies, Dramas, Independent Movies</td>\n",
       "      <td>On India's Independence Day, a zany mishap in ...</td>\n",
       "      <td>2019-03-29</td>\n",
       "      <td>2019.0</td>\n",
       "    </tr>\n",
       "    <tr>\n",
       "      <th>33</th>\n",
       "      <td>s34</td>\n",
       "      <td>Movie</td>\n",
       "      <td>#realityhigh</td>\n",
       "      <td>Fernando Lebrija</td>\n",
       "      <td>Nesta Cooper, Kate Walsh, John Michael Higgins...</td>\n",
       "      <td>United States</td>\n",
       "      <td>September 8, 2017</td>\n",
       "      <td>TV-14</td>\n",
       "      <td>99 min</td>\n",
       "      <td>Comedies</td>\n",
       "      <td>When nerdy high schooler Dani finally attracts...</td>\n",
       "      <td>2017-09-08</td>\n",
       "      <td>2017.0</td>\n",
       "    </tr>\n",
       "  </tbody>\n",
       "</table>\n",
       "</div>"
      ],
      "text/plain": [
       "   Show_Id Category         Title            Director  \\\n",
       "18     s19    Movie        15-Aug  Swapnaneel Jayakar   \n",
       "33     s34    Movie  #realityhigh    Fernando Lebrija   \n",
       "\n",
       "                                                 Cast        Country  \\\n",
       "18  Rahul Pethe, Mrunmayee Deshpande, Adinath Koth...          India   \n",
       "33  Nesta Cooper, Kate Walsh, John Michael Higgins...  United States   \n",
       "\n",
       "         Release_Date Rating Duration                                  Type  \\\n",
       "18     March 29, 2019  TV-14  124 min  Comedies, Dramas, Independent Movies   \n",
       "33  September 8, 2017  TV-14   99 min                              Comedies   \n",
       "\n",
       "                                          Description date_of_release  \\\n",
       "18  On India's Independence Day, a zany mishap in ...      2019-03-29   \n",
       "33  When nerdy high schooler Dani finally attracts...      2017-09-08   \n",
       "\n",
       "    year_of_release  \n",
       "18           2019.0  \n",
       "33           2017.0  "
      ]
     },
     "execution_count": 36,
     "metadata": {},
     "output_type": "execute_result"
    }
   ],
   "source": [
    "comedy_movies = df[(df.Category == \"Movie\") & (df.Type.str.contains(r\"Comedies|Comedy\"))]\n",
    "comedy_movies.head(2)"
   ]
  },
  {
   "cell_type": "code",
   "execution_count": 37,
   "id": "9bc1c8ef-c1ab-4bd2-87f4-179b5b595e6f",
   "metadata": {},
   "outputs": [
    {
     "data": {
      "text/html": [
       "<div>\n",
       "<style scoped>\n",
       "    .dataframe tbody tr th:only-of-type {\n",
       "        vertical-align: middle;\n",
       "    }\n",
       "\n",
       "    .dataframe tbody tr th {\n",
       "        vertical-align: top;\n",
       "    }\n",
       "\n",
       "    .dataframe thead th {\n",
       "        text-align: right;\n",
       "    }\n",
       "</style>\n",
       "<table border=\"1\" class=\"dataframe\">\n",
       "  <thead>\n",
       "    <tr style=\"text-align: right;\">\n",
       "      <th></th>\n",
       "      <th>Show_Id</th>\n",
       "      <th>Category</th>\n",
       "      <th>Title</th>\n",
       "      <th>Director</th>\n",
       "      <th>Cast</th>\n",
       "      <th>Country</th>\n",
       "      <th>Release_Date</th>\n",
       "      <th>Rating</th>\n",
       "      <th>Duration</th>\n",
       "      <th>Type</th>\n",
       "      <th>Description</th>\n",
       "      <th>date_of_release</th>\n",
       "      <th>year_of_release</th>\n",
       "    </tr>\n",
       "  </thead>\n",
       "  <tbody>\n",
       "    <tr>\n",
       "      <th>33</th>\n",
       "      <td>s34</td>\n",
       "      <td>Movie</td>\n",
       "      <td>#realityhigh</td>\n",
       "      <td>Fernando Lebrija</td>\n",
       "      <td>Nesta Cooper, Kate Walsh, John Michael Higgins...</td>\n",
       "      <td>United States</td>\n",
       "      <td>September 8, 2017</td>\n",
       "      <td>TV-14</td>\n",
       "      <td>99 min</td>\n",
       "      <td>Comedies</td>\n",
       "      <td>When nerdy high schooler Dani finally attracts...</td>\n",
       "      <td>2017-09-08</td>\n",
       "      <td>2017.0</td>\n",
       "    </tr>\n",
       "    <tr>\n",
       "      <th>72</th>\n",
       "      <td>s73</td>\n",
       "      <td>Movie</td>\n",
       "      <td>17 Again</td>\n",
       "      <td>Burr Steers</td>\n",
       "      <td>Zac Efron, Leslie Mann, Matthew Perry, Thomas ...</td>\n",
       "      <td>United States</td>\n",
       "      <td>January 1, 2021</td>\n",
       "      <td>PG-13</td>\n",
       "      <td>102 min</td>\n",
       "      <td>Comedies</td>\n",
       "      <td>Nearing a midlife crisis, thirty-something Mik...</td>\n",
       "      <td>2021-01-01</td>\n",
       "      <td>2021.0</td>\n",
       "    </tr>\n",
       "  </tbody>\n",
       "</table>\n",
       "</div>"
      ],
      "text/plain": [
       "   Show_Id Category         Title          Director  \\\n",
       "33     s34    Movie  #realityhigh  Fernando Lebrija   \n",
       "72     s73    Movie      17 Again       Burr Steers   \n",
       "\n",
       "                                                 Cast        Country  \\\n",
       "33  Nesta Cooper, Kate Walsh, John Michael Higgins...  United States   \n",
       "72  Zac Efron, Leslie Mann, Matthew Perry, Thomas ...  United States   \n",
       "\n",
       "         Release_Date Rating Duration      Type  \\\n",
       "33  September 8, 2017  TV-14   99 min  Comedies   \n",
       "72    January 1, 2021  PG-13  102 min  Comedies   \n",
       "\n",
       "                                          Description date_of_release  \\\n",
       "33  When nerdy high schooler Dani finally attracts...      2017-09-08   \n",
       "72  Nearing a midlife crisis, thirty-something Mik...      2021-01-01   \n",
       "\n",
       "    year_of_release  \n",
       "33           2017.0  \n",
       "72           2021.0  "
      ]
     },
     "execution_count": 37,
     "metadata": {},
     "output_type": "execute_result"
    }
   ],
   "source": [
    "# Movies and TV Shows that are only comedy\n",
    "df_comedy_movies_tv = df[df.Type == \"Comedies\"]\n",
    "df_comedy_movies_tv.head(2)"
   ]
  },
  {
   "cell_type": "code",
   "execution_count": 38,
   "id": "2673426a-025f-410e-b313-2392b1904100",
   "metadata": {},
   "outputs": [
    {
     "name": "stdout",
     "output_type": "stream",
     "text": [
      "There are total 97 comedy movies available to watch\n"
     ]
    }
   ],
   "source": [
    "print(f\"There are total {df_comedy_movies_tv.shape[0]} comedy movies available to watch\")"
   ]
  },
  {
   "cell_type": "markdown",
   "id": "6e8c9109-81bd-4c5c-be7d-961fd70d9a83",
   "metadata": {},
   "source": [
    "# Show the data conutry wise for comedy_movies"
   ]
  },
  {
   "cell_type": "code",
   "execution_count": 39,
   "id": "018be0e3-6b7f-4345-b637-4aed8a345387",
   "metadata": {},
   "outputs": [
    {
     "data": {
      "text/plain": [
       "Country\n",
       "United States                      669\n",
       "India                              299\n",
       "Egypt                               57\n",
       "Turkey                              56\n",
       "United Kingdom                      51\n",
       "                                  ... \n",
       "China, Hong Kong                     1\n",
       "Argentina, Chile, Peru               1\n",
       "China, Hong Kong, United States      1\n",
       "China, India, Nepal                  1\n",
       "Zimbabwe                             1\n",
       "Name: Country, Length: 165, dtype: int64"
      ]
     },
     "execution_count": 39,
     "metadata": {},
     "output_type": "execute_result"
    }
   ],
   "source": [
    "comedy_movies.groupby(\"Country\")[\"Country\"].count().sort_values(ascending = False)"
   ]
  },
  {
   "cell_type": "code",
   "execution_count": 40,
   "id": "622962f2-3538-4f66-ab7d-8030575b3437",
   "metadata": {},
   "outputs": [
    {
     "data": {
      "image/png": "[encoded data removed]",
      "text/plain": [
       "<Figure size 640x480 with 1 Axes>"
      ]
     },
     "metadata": {},
     "output_type": "display_data"
    }
   ],
   "source": [
    "# displaying the top 10 countries that make comedy movies using horizontal bar chart\n",
    "\n",
    "comedy_movies.groupby(\"Country\")[\"Country\"].count().sort_values(ascending = False).head(10).plot(kind = 'barh', color = ['r', 'g', 'b', 'y'], edgecolor = 'black')\n",
    "plt.title(\"Most Comedy movies by top 10 countries\")\n",
    "plt.gca().invert_yaxis() # used to invvert the y-axis\n",
    "plt.show()\n",
    "\n"
   ]
  },
  {
   "cell_type": "markdown",
   "id": "2c6c66bd-4bc7-4be3-848b-5be9e7732efd",
   "metadata": {},
   "source": [
    "# The above data shows that USA has top most number of comedy movies followed by India and then Egypt"
   ]
  },
  {
   "cell_type": "markdown",
   "id": "87f4b81f-43e6-4e5e-a42d-200a9c24aa05",
   "metadata": {},
   "source": [
    "# My favourite actor is Tom Cruise let's c how many movies have he worked on"
   ]
  },
  {
   "cell_type": "code",
   "execution_count": 41,
   "id": "84cc9236-f50b-447d-8af7-2ec89c7e9a0e",
   "metadata": {},
   "outputs": [
    {
     "data": {
      "text/html": [
       "<div>\n",
       "<style scoped>\n",
       "    .dataframe tbody tr th:only-of-type {\n",
       "        vertical-align: middle;\n",
       "    }\n",
       "\n",
       "    .dataframe tbody tr th {\n",
       "        vertical-align: top;\n",
       "    }\n",
       "\n",
       "    .dataframe thead th {\n",
       "        text-align: right;\n",
       "    }\n",
       "</style>\n",
       "<table border=\"1\" class=\"dataframe\">\n",
       "  <thead>\n",
       "    <tr style=\"text-align: right;\">\n",
       "      <th></th>\n",
       "      <th>Show_Id</th>\n",
       "      <th>Category</th>\n",
       "      <th>Title</th>\n",
       "      <th>Director</th>\n",
       "      <th>Cast</th>\n",
       "      <th>Country</th>\n",
       "      <th>Release_Date</th>\n",
       "      <th>Rating</th>\n",
       "      <th>Duration</th>\n",
       "      <th>Type</th>\n",
       "      <th>Description</th>\n",
       "      <th>date_of_release</th>\n",
       "      <th>year_of_release</th>\n",
       "    </tr>\n",
       "  </thead>\n",
       "  <tbody>\n",
       "    <tr>\n",
       "      <th>3860</th>\n",
       "      <td>s3861</td>\n",
       "      <td>Movie</td>\n",
       "      <td>Magnolia</td>\n",
       "      <td>Paul Thomas Anderson</td>\n",
       "      <td>Jeremy Blackman, Tom Cruise, Melinda Dillon, A...</td>\n",
       "      <td>United States</td>\n",
       "      <td>January 1, 2020</td>\n",
       "      <td>R</td>\n",
       "      <td>189 min</td>\n",
       "      <td>Dramas, Independent Movies</td>\n",
       "      <td>Through chance, human action, past history and...</td>\n",
       "      <td>2020-01-01</td>\n",
       "      <td>2020.0</td>\n",
       "    </tr>\n",
       "    <tr>\n",
       "      <th>5071</th>\n",
       "      <td>s5071</td>\n",
       "      <td>Movie</td>\n",
       "      <td>Rain Man</td>\n",
       "      <td>Barry Levinson</td>\n",
       "      <td>Dustin Hoffman, Tom Cruise, Valeria Golino, Ge...</td>\n",
       "      <td>United States</td>\n",
       "      <td>July 1, 2019</td>\n",
       "      <td>R</td>\n",
       "      <td>134 min</td>\n",
       "      <td>Classic Movies, Dramas</td>\n",
       "      <td>A fast-talking yuppie is forced to slow down w...</td>\n",
       "      <td>2019-07-01</td>\n",
       "      <td>2019.0</td>\n",
       "    </tr>\n",
       "  </tbody>\n",
       "</table>\n",
       "</div>"
      ],
      "text/plain": [
       "     Show_Id Category     Title              Director  \\\n",
       "3860   s3861    Movie  Magnolia  Paul Thomas Anderson   \n",
       "5071   s5071    Movie  Rain Man        Barry Levinson   \n",
       "\n",
       "                                                   Cast        Country  \\\n",
       "3860  Jeremy Blackman, Tom Cruise, Melinda Dillon, A...  United States   \n",
       "5071  Dustin Hoffman, Tom Cruise, Valeria Golino, Ge...  United States   \n",
       "\n",
       "         Release_Date Rating Duration                        Type  \\\n",
       "3860  January 1, 2020      R  189 min  Dramas, Independent Movies   \n",
       "5071     July 1, 2019      R  134 min      Classic Movies, Dramas   \n",
       "\n",
       "                                            Description date_of_release  \\\n",
       "3860  Through chance, human action, past history and...      2020-01-01   \n",
       "5071  A fast-talking yuppie is forced to slow down w...      2019-07-01   \n",
       "\n",
       "      year_of_release  \n",
       "3860           2020.0  \n",
       "5071           2019.0  "
      ]
     },
     "execution_count": 41,
     "metadata": {},
     "output_type": "execute_result"
    }
   ],
   "source": [
    "df[df.Cast.str.contains(\"Tom Cruise\",  na = False)]"
   ]
  },
  {
   "cell_type": "markdown",
   "id": "161fce5d-5a75-4757-89ed-be466af5f570",
   "metadata": {},
   "source": [
    "## Whoa only 2 movies on Netflix, I have had expected more ;)"
   ]
  },
  {
   "cell_type": "markdown",
   "id": "4b2078e1-c941-47c2-883a-21acf67d1e20",
   "metadata": {},
   "source": [
    "## Well heard of Jim Carrey?? a legend!! Lets Check out for his movies :P"
   ]
  },
  {
   "cell_type": "code",
   "execution_count": 42,
   "id": "fbcc7e55-b121-4618-a30b-3b2b2d023443",
   "metadata": {},
   "outputs": [
    {
     "data": {
      "text/html": [
       "<div>\n",
       "<style scoped>\n",
       "    .dataframe tbody tr th:only-of-type {\n",
       "        vertical-align: middle;\n",
       "    }\n",
       "\n",
       "    .dataframe tbody tr th {\n",
       "        vertical-align: top;\n",
       "    }\n",
       "\n",
       "    .dataframe thead th {\n",
       "        text-align: right;\n",
       "    }\n",
       "</style>\n",
       "<table border=\"1\" class=\"dataframe\">\n",
       "  <thead>\n",
       "    <tr style=\"text-align: right;\">\n",
       "      <th></th>\n",
       "      <th>Show_Id</th>\n",
       "      <th>Category</th>\n",
       "      <th>Title</th>\n",
       "      <th>Director</th>\n",
       "      <th>Cast</th>\n",
       "      <th>Country</th>\n",
       "      <th>Release_Date</th>\n",
       "      <th>Rating</th>\n",
       "      <th>Duration</th>\n",
       "      <th>Type</th>\n",
       "      <th>Description</th>\n",
       "      <th>date_of_release</th>\n",
       "      <th>year_of_release</th>\n",
       "    </tr>\n",
       "  </thead>\n",
       "  <tbody>\n",
       "    <tr>\n",
       "      <th>1612</th>\n",
       "      <td>s1613</td>\n",
       "      <td>Movie</td>\n",
       "      <td>Dark Crimes</td>\n",
       "      <td>Alexandros Avranas</td>\n",
       "      <td>Jim Carrey, Marton Csokas, Charlotte Gainsbour...</td>\n",
       "      <td>United Kingdom, Poland, United States</td>\n",
       "      <td>October 15, 2019</td>\n",
       "      <td>R</td>\n",
       "      <td>93 min</td>\n",
       "      <td>Dramas, Thrillers</td>\n",
       "      <td>A detective on a cold murder case discovers th...</td>\n",
       "      <td>2019-10-15</td>\n",
       "      <td>2019.0</td>\n",
       "    </tr>\n",
       "    <tr>\n",
       "      <th>2839</th>\n",
       "      <td>s2840</td>\n",
       "      <td>Movie</td>\n",
       "      <td>How the Grinch Stole Christmas</td>\n",
       "      <td>Ron Howard</td>\n",
       "      <td>Jim Carrey, Taylor Momsen, Jeffrey Tambor, Chr...</td>\n",
       "      <td>United States</td>\n",
       "      <td>June 1, 2017</td>\n",
       "      <td>PG</td>\n",
       "      <td>105 min</td>\n",
       "      <td>Children &amp; Family Movies, Comedies</td>\n",
       "      <td>The Grinch decides to rob Whoville of Christma...</td>\n",
       "      <td>2017-06-01</td>\n",
       "      <td>2017.0</td>\n",
       "    </tr>\n",
       "  </tbody>\n",
       "</table>\n",
       "</div>"
      ],
      "text/plain": [
       "     Show_Id Category                           Title            Director  \\\n",
       "1612   s1613    Movie                     Dark Crimes  Alexandros Avranas   \n",
       "2839   s2840    Movie  How the Grinch Stole Christmas          Ron Howard   \n",
       "\n",
       "                                                   Cast  \\\n",
       "1612  Jim Carrey, Marton Csokas, Charlotte Gainsbour...   \n",
       "2839  Jim Carrey, Taylor Momsen, Jeffrey Tambor, Chr...   \n",
       "\n",
       "                                    Country      Release_Date Rating Duration  \\\n",
       "1612  United Kingdom, Poland, United States  October 15, 2019      R   93 min   \n",
       "2839                          United States      June 1, 2017     PG  105 min   \n",
       "\n",
       "                                    Type  \\\n",
       "1612                   Dramas, Thrillers   \n",
       "2839  Children & Family Movies, Comedies   \n",
       "\n",
       "                                            Description date_of_release  \\\n",
       "1612  A detective on a cold murder case discovers th...      2019-10-15   \n",
       "2839  The Grinch decides to rob Whoville of Christma...      2017-06-01   \n",
       "\n",
       "      year_of_release  \n",
       "1612           2019.0  \n",
       "2839           2017.0  "
      ]
     },
     "execution_count": 42,
     "metadata": {},
     "output_type": "execute_result"
    }
   ],
   "source": [
    "df[df.Cast.str.contains(\"Jim Carrey\",  na = False)].head(2)"
   ]
  },
  {
   "cell_type": "markdown",
   "id": "9bc63fa3-a9b0-45d2-8ad2-c89ad52871c2",
   "metadata": {},
   "source": [
    "# This dataset is getting interesting as we dig deeper and deeper :)"
   ]
  },
  {
   "cell_type": "markdown",
   "id": "409feae6-3e5b-44e6-b8b1-e6b72cafdabc",
   "metadata": {},
   "source": [
    "Rating!! I am sure you all also check the rating before watching any movie, Let's dig out some of the interesting stuff about the same"
   ]
  },
  {
   "cell_type": "code",
   "execution_count": 43,
   "id": "1785c7ba-d2cc-4226-b004-a5ad83ce1198",
   "metadata": {},
   "outputs": [
    {
     "data": {
      "text/plain": [
       "Index(['Show_Id', 'Category', 'Title', 'Director', 'Cast', 'Country',\n",
       "       'Release_Date', 'Rating', 'Duration', 'Type', 'Description',\n",
       "       'date_of_release', 'year_of_release'],\n",
       "      dtype='object')"
      ]
     },
     "execution_count": 43,
     "metadata": {},
     "output_type": "execute_result"
    }
   ],
   "source": [
    "df.columns"
   ]
  },
  {
   "cell_type": "code",
   "execution_count": 44,
   "id": "3ccddd9d-e945-463e-8744-1bb3899b56d8",
   "metadata": {},
   "outputs": [
    {
     "data": {
      "text/plain": [
       "array(['TV-MA', 'R', 'PG-13', 'TV-14', 'TV-PG', 'NR', 'TV-G', 'TV-Y', nan,\n",
       "       'TV-Y7', 'PG', 'G', 'NC-17', 'TV-Y7-FV', 'UR'], dtype=object)"
      ]
     },
     "execution_count": 44,
     "metadata": {},
     "output_type": "execute_result"
    }
   ],
   "source": [
    "df.Rating.unique()"
   ]
  },
  {
   "cell_type": "markdown",
   "id": "0d60c4c0-fad1-41a1-8587-73ac89257017",
   "metadata": {},
   "source": [
    "<> Well I did some digging what above code says here is what I found <>\n",
    "\n",
    "MPAA Film Ratings (US):\n",
    "    G: General audiences - all ages admitted.\n",
    "    PG: Parental guidance suggested - some material may not be suitable for children.\n",
    "    PG-13: Parents strongly cautioned - some material may be inappropriate for children under 13.\n",
    "    R: Restricted - under 17 requires accompanying parent or adult guardian.\n",
    "    NC-17: No Children Under 17 - Adults only.\n",
    "\n",
    "TV Parental Guidelines (US):\n",
    "    TV-Y: All children.\n",
    "    TV-Y7: Directed at young children (ages 2-7).\n",
    "    TV-G: General audience.\n",
    "    TV-PG: Parental guidance suggested.\n",
    "    TV-14: Parents TV with parental guidance.\n",
    "    TV-MA: Mature audience only - may not be suitable for children under 17.\n",
    "\n",
    "Other:\n",
    "    NR: Not Rated - material has not been submitted for rating.\n",
    "    UR: Unrated - may not have been classified for age restrictions.\n",
    "    TV-Y7-FV: Fantasy Violence - Directed at young children (ages 2-7) with some mild fantasy violence."
   ]
  },
  {
   "cell_type": "markdown",
   "id": "2c386a97-bc5c-492e-8bf2-bf4616cd30e3",
   "metadata": {},
   "source": [
    "My nephew is asking me if she could watch some movies. As there is lots of content available I need to find the suitable one for her. As no adult would be around for a while so I need to find her something that is safe to her. 🐰"
   ]
  },
  {
   "cell_type": "markdown",
   "id": "3912aff8-49f9-4200-9c5a-4464f88a5b31",
   "metadata": {},
   "source": [
    "# as TV-Y: All children is for all childern let's find out some movies"
   ]
  },
  {
   "cell_type": "code",
   "execution_count": 45,
   "id": "e8830041-0ac5-4272-bb8b-dfba39f5c3da",
   "metadata": {},
   "outputs": [
    {
     "data": {
      "text/html": [
       "<div>\n",
       "<style scoped>\n",
       "    .dataframe tbody tr th:only-of-type {\n",
       "        vertical-align: middle;\n",
       "    }\n",
       "\n",
       "    .dataframe tbody tr th {\n",
       "        vertical-align: top;\n",
       "    }\n",
       "\n",
       "    .dataframe thead th {\n",
       "        text-align: right;\n",
       "    }\n",
       "</style>\n",
       "<table border=\"1\" class=\"dataframe\">\n",
       "  <thead>\n",
       "    <tr style=\"text-align: right;\">\n",
       "      <th></th>\n",
       "      <th>Show_Id</th>\n",
       "      <th>Category</th>\n",
       "      <th>Title</th>\n",
       "      <th>Director</th>\n",
       "      <th>Cast</th>\n",
       "      <th>Country</th>\n",
       "      <th>Release_Date</th>\n",
       "      <th>Rating</th>\n",
       "      <th>Duration</th>\n",
       "      <th>Type</th>\n",
       "      <th>Description</th>\n",
       "      <th>date_of_release</th>\n",
       "      <th>year_of_release</th>\n",
       "    </tr>\n",
       "  </thead>\n",
       "  <tbody>\n",
       "    <tr>\n",
       "      <th>55</th>\n",
       "      <td>s56</td>\n",
       "      <td>Movie</td>\n",
       "      <td>100 Things to do Before High School</td>\n",
       "      <td>NaN</td>\n",
       "      <td>Isabela Moner, Jaheem Toombs, Owen Joyner, Jac...</td>\n",
       "      <td>United States</td>\n",
       "      <td>November 2, 2019</td>\n",
       "      <td>TV-Y</td>\n",
       "      <td>44 min</td>\n",
       "      <td>Movies</td>\n",
       "      <td>Led by seventh-grader C.J., three students who...</td>\n",
       "      <td>2019-11-02</td>\n",
       "      <td>2019.0</td>\n",
       "    </tr>\n",
       "    <tr>\n",
       "      <th>177</th>\n",
       "      <td>s178</td>\n",
       "      <td>Movie</td>\n",
       "      <td>A Go! Go! Cory Carson Christmas</td>\n",
       "      <td>Stanley Moore, Alex Woo</td>\n",
       "      <td>Alan C. Lim, Taron C. Hensley, Maisie Benson, ...</td>\n",
       "      <td>United States</td>\n",
       "      <td>November 27, 2020</td>\n",
       "      <td>TV-Y</td>\n",
       "      <td>22 min</td>\n",
       "      <td>Children &amp; Family Movies</td>\n",
       "      <td>When a familiar-looking stranger crashes in wi...</td>\n",
       "      <td>2020-11-27</td>\n",
       "      <td>2020.0</td>\n",
       "    </tr>\n",
       "  </tbody>\n",
       "</table>\n",
       "</div>"
      ],
      "text/plain": [
       "    Show_Id Category                                Title  \\\n",
       "55      s56    Movie  100 Things to do Before High School   \n",
       "177    s178    Movie      A Go! Go! Cory Carson Christmas   \n",
       "\n",
       "                    Director  \\\n",
       "55                       NaN   \n",
       "177  Stanley Moore, Alex Woo   \n",
       "\n",
       "                                                  Cast        Country  \\\n",
       "55   Isabela Moner, Jaheem Toombs, Owen Joyner, Jac...  United States   \n",
       "177  Alan C. Lim, Taron C. Hensley, Maisie Benson, ...  United States   \n",
       "\n",
       "          Release_Date Rating Duration                      Type  \\\n",
       "55    November 2, 2019   TV-Y   44 min                    Movies   \n",
       "177  November 27, 2020   TV-Y   22 min  Children & Family Movies   \n",
       "\n",
       "                                           Description date_of_release  \\\n",
       "55   Led by seventh-grader C.J., three students who...      2019-11-02   \n",
       "177  When a familiar-looking stranger crashes in wi...      2020-11-27   \n",
       "\n",
       "     year_of_release  \n",
       "55            2019.0  \n",
       "177           2020.0  "
      ]
     },
     "execution_count": 45,
     "metadata": {},
     "output_type": "execute_result"
    }
   ],
   "source": [
    "df[df.Rating == 'TV-Y'].head(2)"
   ]
  },
  {
   "cell_type": "markdown",
   "id": "a8876bad-6101-4d9f-9c2c-a5d1268648ba",
   "metadata": {},
   "source": [
    "Found plenty of stuff, lets get something specific for India region"
   ]
  },
  {
   "cell_type": "code",
   "execution_count": 46,
   "id": "c6243c04-4717-4089-a7a3-080affafbaa3",
   "metadata": {},
   "outputs": [
    {
     "data": {
      "text/html": [
       "<div>\n",
       "<style scoped>\n",
       "    .dataframe tbody tr th:only-of-type {\n",
       "        vertical-align: middle;\n",
       "    }\n",
       "\n",
       "    .dataframe tbody tr th {\n",
       "        vertical-align: top;\n",
       "    }\n",
       "\n",
       "    .dataframe thead th {\n",
       "        text-align: right;\n",
       "    }\n",
       "</style>\n",
       "<table border=\"1\" class=\"dataframe\">\n",
       "  <thead>\n",
       "    <tr style=\"text-align: right;\">\n",
       "      <th></th>\n",
       "      <th>Show_Id</th>\n",
       "      <th>Category</th>\n",
       "      <th>Title</th>\n",
       "      <th>Director</th>\n",
       "      <th>Cast</th>\n",
       "      <th>Country</th>\n",
       "      <th>Release_Date</th>\n",
       "      <th>Rating</th>\n",
       "      <th>Duration</th>\n",
       "      <th>Type</th>\n",
       "      <th>Description</th>\n",
       "      <th>date_of_release</th>\n",
       "      <th>year_of_release</th>\n",
       "    </tr>\n",
       "  </thead>\n",
       "  <tbody>\n",
       "    <tr>\n",
       "      <th>1316</th>\n",
       "      <td>s1317</td>\n",
       "      <td>TV Show</td>\n",
       "      <td>Chhota Bheem</td>\n",
       "      <td>NaN</td>\n",
       "      <td>Vatsal Dubey, Julie Tejwani, Rupa Bhimani, Jig...</td>\n",
       "      <td>India</td>\n",
       "      <td>July 11, 2019</td>\n",
       "      <td>TV-Y</td>\n",
       "      <td>1 Season</td>\n",
       "      <td>Kids' TV</td>\n",
       "      <td>A brave, energetic little boy with superhuman ...</td>\n",
       "      <td>2019-07-11</td>\n",
       "      <td>2019.0</td>\n",
       "    </tr>\n",
       "    <tr>\n",
       "      <th>1377</th>\n",
       "      <td>s1378</td>\n",
       "      <td>TV Show</td>\n",
       "      <td>ChuChu TV Nursery Rhymes &amp; Kids Songs (Hindi)</td>\n",
       "      <td>NaN</td>\n",
       "      <td>NaN</td>\n",
       "      <td>India</td>\n",
       "      <td>April 18, 2020</td>\n",
       "      <td>TV-Y</td>\n",
       "      <td>1 Season</td>\n",
       "      <td>Kids' TV</td>\n",
       "      <td>This educational series for tiny tots features...</td>\n",
       "      <td>2020-04-18</td>\n",
       "      <td>2020.0</td>\n",
       "    </tr>\n",
       "  </tbody>\n",
       "</table>\n",
       "</div>"
      ],
      "text/plain": [
       "     Show_Id Category                                          Title Director  \\\n",
       "1316   s1317  TV Show                                   Chhota Bheem      NaN   \n",
       "1377   s1378  TV Show  ChuChu TV Nursery Rhymes & Kids Songs (Hindi)      NaN   \n",
       "\n",
       "                                                   Cast Country  \\\n",
       "1316  Vatsal Dubey, Julie Tejwani, Rupa Bhimani, Jig...   India   \n",
       "1377                                                NaN   India   \n",
       "\n",
       "        Release_Date Rating  Duration      Type  \\\n",
       "1316   July 11, 2019   TV-Y  1 Season  Kids' TV   \n",
       "1377  April 18, 2020   TV-Y  1 Season  Kids' TV   \n",
       "\n",
       "                                            Description date_of_release  \\\n",
       "1316  A brave, energetic little boy with superhuman ...      2019-07-11   \n",
       "1377  This educational series for tiny tots features...      2020-04-18   \n",
       "\n",
       "      year_of_release  \n",
       "1316           2019.0  \n",
       "1377           2020.0  "
      ]
     },
     "execution_count": 46,
     "metadata": {},
     "output_type": "execute_result"
    }
   ],
   "source": [
    "df[(df.Rating == 'TV-Y') & (df.Country == \"India\")].head(2)"
   ]
  },
  {
   "cell_type": "code",
   "execution_count": 47,
   "id": "6b0e0dc4-3500-4f18-80bc-2858f698cff4",
   "metadata": {},
   "outputs": [
    {
     "data": {
      "text/html": [
       "<div>\n",
       "<style scoped>\n",
       "    .dataframe tbody tr th:only-of-type {\n",
       "        vertical-align: middle;\n",
       "    }\n",
       "\n",
       "    .dataframe tbody tr th {\n",
       "        vertical-align: top;\n",
       "    }\n",
       "\n",
       "    .dataframe thead th {\n",
       "        text-align: right;\n",
       "    }\n",
       "</style>\n",
       "<table border=\"1\" class=\"dataframe\">\n",
       "  <thead>\n",
       "    <tr style=\"text-align: right;\">\n",
       "      <th></th>\n",
       "      <th>Show_Id</th>\n",
       "      <th>Category</th>\n",
       "      <th>Title</th>\n",
       "      <th>Director</th>\n",
       "      <th>Cast</th>\n",
       "      <th>Country</th>\n",
       "      <th>Release_Date</th>\n",
       "      <th>Rating</th>\n",
       "      <th>Duration</th>\n",
       "      <th>Type</th>\n",
       "      <th>Description</th>\n",
       "      <th>date_of_release</th>\n",
       "      <th>year_of_release</th>\n",
       "    </tr>\n",
       "  </thead>\n",
       "  <tbody>\n",
       "    <tr>\n",
       "      <th>1316</th>\n",
       "      <td>s1317</td>\n",
       "      <td>TV Show</td>\n",
       "      <td>Chhota Bheem</td>\n",
       "      <td>NaN</td>\n",
       "      <td>Vatsal Dubey, Julie Tejwani, Rupa Bhimani, Jig...</td>\n",
       "      <td>India</td>\n",
       "      <td>July 11, 2019</td>\n",
       "      <td>TV-Y</td>\n",
       "      <td>1 Season</td>\n",
       "      <td>Kids' TV</td>\n",
       "      <td>A brave, energetic little boy with superhuman ...</td>\n",
       "      <td>2019-07-11</td>\n",
       "      <td>2019.0</td>\n",
       "    </tr>\n",
       "    <tr>\n",
       "      <th>1377</th>\n",
       "      <td>s1378</td>\n",
       "      <td>TV Show</td>\n",
       "      <td>ChuChu TV Nursery Rhymes &amp; Kids Songs (Hindi)</td>\n",
       "      <td>NaN</td>\n",
       "      <td>NaN</td>\n",
       "      <td>India</td>\n",
       "      <td>April 18, 2020</td>\n",
       "      <td>TV-Y</td>\n",
       "      <td>1 Season</td>\n",
       "      <td>Kids' TV</td>\n",
       "      <td>This educational series for tiny tots features...</td>\n",
       "      <td>2020-04-18</td>\n",
       "      <td>2020.0</td>\n",
       "    </tr>\n",
       "  </tbody>\n",
       "</table>\n",
       "</div>"
      ],
      "text/plain": [
       "     Show_Id Category                                          Title Director  \\\n",
       "1316   s1317  TV Show                                   Chhota Bheem      NaN   \n",
       "1377   s1378  TV Show  ChuChu TV Nursery Rhymes & Kids Songs (Hindi)      NaN   \n",
       "\n",
       "                                                   Cast Country  \\\n",
       "1316  Vatsal Dubey, Julie Tejwani, Rupa Bhimani, Jig...   India   \n",
       "1377                                                NaN   India   \n",
       "\n",
       "        Release_Date Rating  Duration      Type  \\\n",
       "1316   July 11, 2019   TV-Y  1 Season  Kids' TV   \n",
       "1377  April 18, 2020   TV-Y  1 Season  Kids' TV   \n",
       "\n",
       "                                            Description date_of_release  \\\n",
       "1316  A brave, energetic little boy with superhuman ...      2019-07-11   \n",
       "1377  This educational series for tiny tots features...      2020-04-18   \n",
       "\n",
       "      year_of_release  \n",
       "1316           2019.0  \n",
       "1377           2020.0  "
      ]
     },
     "execution_count": 47,
     "metadata": {},
     "output_type": "execute_result"
    }
   ],
   "source": [
    "df[(df.Rating == 'TV-Y') & (df.Country.str.contains(\"India\", na = False))].head(2)"
   ]
  },
  {
   "cell_type": "markdown",
   "id": "8aa50e5b-7bc0-483c-9c15-8413262c2165",
   "metadata": {},
   "source": [
    "Looks Good!! She could be busy for some time 😊"
   ]
  },
  {
   "cell_type": "markdown",
   "id": "50922b5b-21df-420e-ac63-7935c41ebbe0",
   "metadata": {},
   "source": [
    "On top of it lets do some anaysis where we could showcase the data in a bar chart that what is the frequency for each movie rating.\n",
    "Let's find out. It seems so interesting."
   ]
  },
  {
   "cell_type": "code",
   "execution_count": 48,
   "id": "c1d5f4ad-a70f-4bad-8a62-8a31b6cfeef2",
   "metadata": {},
   "outputs": [
    {
     "data": {
      "text/plain": [
       "Rating\n",
       "G             39\n",
       "NC-17          3\n",
       "NR            84\n",
       "PG           247\n",
       "PG-13        386\n",
       "R            665\n",
       "TV-14       1931\n",
       "TV-G         194\n",
       "TV-MA       2863\n",
       "TV-PG        806\n",
       "TV-Y         280\n",
       "TV-Y7        271\n",
       "TV-Y7-FV       6\n",
       "UR             5\n",
       "Name: Rating, dtype: int64"
      ]
     },
     "execution_count": 48,
     "metadata": {},
     "output_type": "execute_result"
    }
   ],
   "source": [
    "freq_by_rating = df.groupby('Rating')[\"Rating\"].count()\n",
    "freq_by_rating"
   ]
  },
  {
   "cell_type": "code",
   "execution_count": 49,
   "id": "4246d3e9-269f-4628-a822-0f9256b4bc81",
   "metadata": {},
   "outputs": [
    {
     "data": {
      "image/png": "[encoded data removed]",
      "text/plain": [
       "<Figure size 640x480 with 1 Axes>"
      ]
     },
     "metadata": {},
     "output_type": "display_data"
    }
   ],
   "source": [
    "# Lets now showcase the above data in a bar chart\n",
    "\n",
    "color = ['lightblue', 'blue', 'purple', 'red', 'green', 'yellow', \"cyan\"]\n",
    "freq_by_rating.plot(kind = \"bar\", color = color)\n",
    "plt.title(\"Frequency by Rating\")\n",
    "plt.xlabel(\"Rating\")\n",
    "plt.show()"
   ]
  },
  {
   "cell_type": "markdown",
   "id": "ad3d5fe1-7b10-42ae-8f85-157bbe60850d",
   "metadata": {},
   "source": [
    "I have a date tonight. Let's see how many options are available for me for Movie date on Netflix. I would only go for movies for a night 😉\n",
    "\n",
    "I would go for these two ratings \"TV-MA\" \"NC-17\""
   ]
  },
  {
   "cell_type": "code",
   "execution_count": 50,
   "id": "68e0eb1c-8cc7-48e0-ad27-5a0ff3471b96",
   "metadata": {},
   "outputs": [
    {
     "data": {
      "text/html": [
       "<div>\n",
       "<style scoped>\n",
       "    .dataframe tbody tr th:only-of-type {\n",
       "        vertical-align: middle;\n",
       "    }\n",
       "\n",
       "    .dataframe tbody tr th {\n",
       "        vertical-align: top;\n",
       "    }\n",
       "\n",
       "    .dataframe thead th {\n",
       "        text-align: right;\n",
       "    }\n",
       "</style>\n",
       "<table border=\"1\" class=\"dataframe\">\n",
       "  <thead>\n",
       "    <tr style=\"text-align: right;\">\n",
       "      <th></th>\n",
       "      <th>Show_Id</th>\n",
       "      <th>Category</th>\n",
       "      <th>Title</th>\n",
       "      <th>Director</th>\n",
       "      <th>Cast</th>\n",
       "      <th>Country</th>\n",
       "      <th>Release_Date</th>\n",
       "      <th>Rating</th>\n",
       "      <th>Duration</th>\n",
       "      <th>Type</th>\n",
       "      <th>Description</th>\n",
       "      <th>date_of_release</th>\n",
       "      <th>year_of_release</th>\n",
       "    </tr>\n",
       "  </thead>\n",
       "  <tbody>\n",
       "    <tr>\n",
       "      <th>1</th>\n",
       "      <td>s2</td>\n",
       "      <td>Movie</td>\n",
       "      <td>07:19</td>\n",
       "      <td>Jorge Michel Grau</td>\n",
       "      <td>Demián Bichir, Héctor Bonilla, Oscar Serrano, ...</td>\n",
       "      <td>Mexico</td>\n",
       "      <td>December 23, 2016</td>\n",
       "      <td>TV-MA</td>\n",
       "      <td>93 min</td>\n",
       "      <td>Dramas, International Movies</td>\n",
       "      <td>After a devastating earthquake hits Mexico Cit...</td>\n",
       "      <td>2016-12-23</td>\n",
       "      <td>2016.0</td>\n",
       "    </tr>\n",
       "    <tr>\n",
       "      <th>6</th>\n",
       "      <td>s7</td>\n",
       "      <td>Movie</td>\n",
       "      <td>122</td>\n",
       "      <td>Yasir Al Yasiri</td>\n",
       "      <td>Amina Khalil, Ahmed Dawood, Tarek Lotfy, Ahmed...</td>\n",
       "      <td>Egypt</td>\n",
       "      <td>June 1, 2020</td>\n",
       "      <td>TV-MA</td>\n",
       "      <td>95 min</td>\n",
       "      <td>Horror Movies, International Movies</td>\n",
       "      <td>After an awful accident, a couple admitted to ...</td>\n",
       "      <td>2020-06-01</td>\n",
       "      <td>2020.0</td>\n",
       "    </tr>\n",
       "  </tbody>\n",
       "</table>\n",
       "</div>"
      ],
      "text/plain": [
       "  Show_Id Category  Title           Director  \\\n",
       "1      s2    Movie  07:19  Jorge Michel Grau   \n",
       "6      s7    Movie    122    Yasir Al Yasiri   \n",
       "\n",
       "                                                Cast Country  \\\n",
       "1  Demián Bichir, Héctor Bonilla, Oscar Serrano, ...  Mexico   \n",
       "6  Amina Khalil, Ahmed Dawood, Tarek Lotfy, Ahmed...   Egypt   \n",
       "\n",
       "        Release_Date Rating Duration                                 Type  \\\n",
       "1  December 23, 2016  TV-MA   93 min         Dramas, International Movies   \n",
       "6       June 1, 2020  TV-MA   95 min  Horror Movies, International Movies   \n",
       "\n",
       "                                         Description date_of_release  \\\n",
       "1  After a devastating earthquake hits Mexico Cit...      2016-12-23   \n",
       "6  After an awful accident, a couple admitted to ...      2020-06-01   \n",
       "\n",
       "   year_of_release  \n",
       "1           2016.0  \n",
       "6           2020.0  "
      ]
     },
     "execution_count": 50,
     "metadata": {},
     "output_type": "execute_result"
    }
   ],
   "source": [
    "df[((df.Rating == \"TV-MA\") | (df.Rating == \"NC-17\")) & (df.Category == \"Movie\")].head(2)"
   ]
  },
  {
   "cell_type": "code",
   "execution_count": 51,
   "id": "208ef08b-dda4-4852-95c8-e57126e8ef70",
   "metadata": {},
   "outputs": [
    {
     "name": "stdout",
     "output_type": "stream",
     "text": [
      "There are total 1848 movies available for mature or adult audience\n"
     ]
    }
   ],
   "source": [
    "number_of_mat_adlt = df[((df.Rating == \"TV-MA\") | (df.Rating == \"NC-17\")) & (df.Category == \"Movie\")].shape[0]\n",
    "print(f\"There are total {number_of_mat_adlt} movies available for mature or adult audience\")"
   ]
  },
  {
   "cell_type": "raw",
   "id": "cad9a7c8-0de5-481c-bc69-f2ee9f921c8b",
   "metadata": {},
   "source": [
    "Let's now see how many TV shows are there which have R rating"
   ]
  },
  {
   "cell_type": "code",
   "execution_count": 52,
   "id": "206c258f-0699-42ef-848b-e06afe8016bc",
   "metadata": {},
   "outputs": [
    {
     "data": {
      "text/html": [
       "<div>\n",
       "<style scoped>\n",
       "    .dataframe tbody tr th:only-of-type {\n",
       "        vertical-align: middle;\n",
       "    }\n",
       "\n",
       "    .dataframe tbody tr th {\n",
       "        vertical-align: top;\n",
       "    }\n",
       "\n",
       "    .dataframe thead th {\n",
       "        text-align: right;\n",
       "    }\n",
       "</style>\n",
       "<table border=\"1\" class=\"dataframe\">\n",
       "  <thead>\n",
       "    <tr style=\"text-align: right;\">\n",
       "      <th></th>\n",
       "      <th>Show_Id</th>\n",
       "      <th>Category</th>\n",
       "      <th>Title</th>\n",
       "      <th>Director</th>\n",
       "      <th>Cast</th>\n",
       "      <th>Country</th>\n",
       "      <th>Release_Date</th>\n",
       "      <th>Rating</th>\n",
       "      <th>Duration</th>\n",
       "      <th>Type</th>\n",
       "      <th>Description</th>\n",
       "      <th>date_of_release</th>\n",
       "      <th>year_of_release</th>\n",
       "    </tr>\n",
       "  </thead>\n",
       "  <tbody>\n",
       "    <tr>\n",
       "      <th>4497</th>\n",
       "      <td>s4498</td>\n",
       "      <td>TV Show</td>\n",
       "      <td>Nobel</td>\n",
       "      <td>NaN</td>\n",
       "      <td>Aksel Hennie, Tuva Novotny, Anders Danielsen L...</td>\n",
       "      <td>Norway</td>\n",
       "      <td>December 10, 2016</td>\n",
       "      <td>R</td>\n",
       "      <td>1 Season</td>\n",
       "      <td>International TV Shows, TV Dramas, TV Thrillers</td>\n",
       "      <td>A series of incidents in Afghanistan set compl...</td>\n",
       "      <td>2016-12-10</td>\n",
       "      <td>2016.0</td>\n",
       "    </tr>\n",
       "    <tr>\n",
       "      <th>6437</th>\n",
       "      <td>s6436</td>\n",
       "      <td>TV Show</td>\n",
       "      <td>The Hateful Eight: Extended Version</td>\n",
       "      <td>Quentin Tarantino</td>\n",
       "      <td>Samuel L. Jackson, Kurt Russell, Jennifer Jaso...</td>\n",
       "      <td>NaN</td>\n",
       "      <td>April 25, 2019</td>\n",
       "      <td>R</td>\n",
       "      <td>1 Season</td>\n",
       "      <td>TV Shows</td>\n",
       "      <td>Trapped at a stagecoach stop as a storm rages ...</td>\n",
       "      <td>2019-04-25</td>\n",
       "      <td>2019.0</td>\n",
       "    </tr>\n",
       "  </tbody>\n",
       "</table>\n",
       "</div>"
      ],
      "text/plain": [
       "     Show_Id Category                                Title           Director  \\\n",
       "4497   s4498  TV Show                                Nobel                NaN   \n",
       "6437   s6436  TV Show  The Hateful Eight: Extended Version  Quentin Tarantino   \n",
       "\n",
       "                                                   Cast Country  \\\n",
       "4497  Aksel Hennie, Tuva Novotny, Anders Danielsen L...  Norway   \n",
       "6437  Samuel L. Jackson, Kurt Russell, Jennifer Jaso...     NaN   \n",
       "\n",
       "           Release_Date Rating  Duration  \\\n",
       "4497  December 10, 2016      R  1 Season   \n",
       "6437     April 25, 2019      R  1 Season   \n",
       "\n",
       "                                                 Type  \\\n",
       "4497  International TV Shows, TV Dramas, TV Thrillers   \n",
       "6437                                         TV Shows   \n",
       "\n",
       "                                            Description date_of_release  \\\n",
       "4497  A series of incidents in Afghanistan set compl...      2016-12-10   \n",
       "6437  Trapped at a stagecoach stop as a storm rages ...      2019-04-25   \n",
       "\n",
       "      year_of_release  \n",
       "4497           2016.0  \n",
       "6437           2019.0  "
      ]
     },
     "execution_count": 52,
     "metadata": {},
     "output_type": "execute_result"
    }
   ],
   "source": [
    "df[(df.Rating == 'R') & (df.Category == \"TV Show\")]"
   ]
  },
  {
   "cell_type": "raw",
   "id": "8337046a-c067-4a58-a475-36e3dea70a69",
   "metadata": {},
   "source": [
    "Let's find some latest movies (year 2020 and after) and tv shows that everyone cam watch that should me country like India, USA, Canada"
   ]
  },
  {
   "cell_type": "code",
   "execution_count": 53,
   "id": "b712db7d-0f7c-4da8-9b96-b1e3388d05c8",
   "metadata": {},
   "outputs": [
    {
     "data": {
      "text/html": [
       "<div>\n",
       "<style scoped>\n",
       "    .dataframe tbody tr th:only-of-type {\n",
       "        vertical-align: middle;\n",
       "    }\n",
       "\n",
       "    .dataframe tbody tr th {\n",
       "        vertical-align: top;\n",
       "    }\n",
       "\n",
       "    .dataframe thead th {\n",
       "        text-align: right;\n",
       "    }\n",
       "</style>\n",
       "<table border=\"1\" class=\"dataframe\">\n",
       "  <thead>\n",
       "    <tr style=\"text-align: right;\">\n",
       "      <th></th>\n",
       "      <th>Show_Id</th>\n",
       "      <th>Category</th>\n",
       "      <th>Title</th>\n",
       "      <th>Director</th>\n",
       "      <th>Cast</th>\n",
       "      <th>Country</th>\n",
       "      <th>Release_Date</th>\n",
       "      <th>Rating</th>\n",
       "      <th>Duration</th>\n",
       "      <th>Type</th>\n",
       "      <th>Description</th>\n",
       "      <th>date_of_release</th>\n",
       "      <th>year_of_release</th>\n",
       "    </tr>\n",
       "  </thead>\n",
       "  <tbody>\n",
       "    <tr>\n",
       "      <th>155</th>\n",
       "      <td>s156</td>\n",
       "      <td>Movie</td>\n",
       "      <td>A Champion Heart</td>\n",
       "      <td>David de Vos</td>\n",
       "      <td>Mandy Grace, David de Vos, Donna Rusch, Devan ...</td>\n",
       "      <td>United States</td>\n",
       "      <td>April 14, 2020</td>\n",
       "      <td>G</td>\n",
       "      <td>90 min</td>\n",
       "      <td>Children &amp; Family Movies, Dramas</td>\n",
       "      <td>When a grieving teen must work off her debt to...</td>\n",
       "      <td>2020-04-14</td>\n",
       "      <td>2020.0</td>\n",
       "    </tr>\n",
       "    <tr>\n",
       "      <th>227</th>\n",
       "      <td>s228</td>\n",
       "      <td>Movie</td>\n",
       "      <td>A Shaun the Sheep Movie: Farmageddon</td>\n",
       "      <td>Richard Phelan, Will Becher</td>\n",
       "      <td>Justin Fletcher, John Sparkes, Amalia Vitale, ...</td>\n",
       "      <td>United Kingdom, France, Belgium, United States...</td>\n",
       "      <td>February 14, 2020</td>\n",
       "      <td>G</td>\n",
       "      <td>87 min</td>\n",
       "      <td>Children &amp; Family Movies, Comedies</td>\n",
       "      <td>Shaun and the flock race to help an adorable a...</td>\n",
       "      <td>2020-02-14</td>\n",
       "      <td>2020.0</td>\n",
       "    </tr>\n",
       "  </tbody>\n",
       "</table>\n",
       "</div>"
      ],
      "text/plain": [
       "    Show_Id Category                                 Title  \\\n",
       "155    s156    Movie                      A Champion Heart   \n",
       "227    s228    Movie  A Shaun the Sheep Movie: Farmageddon   \n",
       "\n",
       "                        Director  \\\n",
       "155                 David de Vos   \n",
       "227  Richard Phelan, Will Becher   \n",
       "\n",
       "                                                  Cast  \\\n",
       "155  Mandy Grace, David de Vos, Donna Rusch, Devan ...   \n",
       "227  Justin Fletcher, John Sparkes, Amalia Vitale, ...   \n",
       "\n",
       "                                               Country       Release_Date  \\\n",
       "155                                      United States     April 14, 2020   \n",
       "227  United Kingdom, France, Belgium, United States...  February 14, 2020   \n",
       "\n",
       "    Rating Duration                                Type  \\\n",
       "155      G   90 min    Children & Family Movies, Dramas   \n",
       "227      G   87 min  Children & Family Movies, Comedies   \n",
       "\n",
       "                                           Description date_of_release  \\\n",
       "155  When a grieving teen must work off her debt to...      2020-04-14   \n",
       "227  Shaun and the flock race to help an adorable a...      2020-02-14   \n",
       "\n",
       "     year_of_release  \n",
       "155           2020.0  \n",
       "227           2020.0  "
      ]
     },
     "execution_count": 53,
     "metadata": {},
     "output_type": "execute_result"
    }
   ],
   "source": [
    "latest_contry_movie = df[(df.Rating == 'G') & (df.Country.str.contains(r\"India|United States|Canada\")) & (df.year_of_release >= 2020)]\n",
    "latest_contry_movie.head(2)"
   ]
  },
  {
   "cell_type": "code",
   "execution_count": 54,
   "id": "f01d95ca-7228-4df7-b7fd-c6efa7337025",
   "metadata": {},
   "outputs": [
    {
     "name": "stdout",
     "output_type": "stream",
     "text": [
      "There are total 11 movies we can watch and that satisfies above criterion\n"
     ]
    }
   ],
   "source": [
    "print(f\"There are total {latest_contry_movie.shape[0]} movies we can watch and that satisfies above criterion\")"
   ]
  },
  {
   "cell_type": "raw",
   "id": "fdba306f-26e8-4a87-b9f2-2dde7a821e3b",
   "metadata": {},
   "source": [
    "Let's now see the maximum duration of the TV show and Movie has in our collection\n",
    "\n",
    "Since the column is in object format, we need to convert it into integer for which need to remove min/season/seasons from the column so lets create a new column that could satisfies our needs"
   ]
  },
  {
   "cell_type": "code",
   "execution_count": 55,
   "id": "353ecc6c-2de5-4894-be77-a07070cf4a2d",
   "metadata": {},
   "outputs": [
    {
     "data": {
      "text/plain": [
       "array(['4 Seasons', '93 min', '78 min', '80 min', '123 min', '1 Season',\n",
       "       '95 min', '119 min', '118 min', '143 min', '103 min', '89 min',\n",
       "       '91 min', '149 min', '144 min', '124 min', '87 min', '110 min',\n",
       "       '128 min', '117 min', '100 min', '2 Seasons', '84 min', '99 min',\n",
       "       '90 min', '102 min', '104 min', '105 min', '56 min', '125 min',\n",
       "       '81 min', '97 min', '106 min', '107 min', '109 min', '44 min',\n",
       "       '75 min', '101 min', '3 Seasons', '37 min', '113 min', '114 min',\n",
       "       '130 min', '94 min', '140 min', '135 min', '82 min', '70 min',\n",
       "       '121 min', '92 min', '164 min', '53 min', '83 min', '116 min',\n",
       "       '86 min', '120 min', '96 min', '126 min', '129 min', '77 min',\n",
       "       '137 min', '148 min', '28 min', '122 min', '176 min', '85 min',\n",
       "       '22 min', '68 min', '111 min', '29 min', '142 min', '168 min',\n",
       "       '21 min', '59 min', '20 min', '98 min', '108 min', '76 min',\n",
       "       '26 min', '156 min', '30 min', '57 min', '150 min', '133 min',\n",
       "       '115 min', '154 min', '127 min', '146 min', '136 min', '88 min',\n",
       "       '131 min', '24 min', '112 min', '74 min', '63 min', '38 min',\n",
       "       '25 min', '174 min', '60 min', '153 min', '158 min', '151 min',\n",
       "       '162 min', '54 min', '51 min', '69 min', '64 min', '147 min',\n",
       "       '42 min', '79 min', '5 Seasons', '40 min', '45 min', '172 min',\n",
       "       '10 min', '163 min', '9 Seasons', '55 min', '72 min', '61 min',\n",
       "       '71 min', '160 min', '171 min', '48 min', '139 min', '157 min',\n",
       "       '15 min', '65 min', '134 min', '161 min', '62 min', '8 Seasons',\n",
       "       '186 min', '49 min', '73 min', '58 min', '165 min', '166 min',\n",
       "       '138 min', '159 min', '141 min', '132 min', '52 min', '67 min',\n",
       "       '34 min', '66 min', '312 min', '180 min', '47 min', '6 Seasons',\n",
       "       '155 min', '14 min', '177 min', '11 min', '9 min', '46 min',\n",
       "       '145 min', '11 Seasons', '7 Seasons', '13 Seasons', '8 min',\n",
       "       '12 min', '12 Seasons', '10 Seasons', '43 min', '50 min', '23 min',\n",
       "       '185 min', '200 min', '169 min', '27 min', '170 min', '196 min',\n",
       "       '33 min', '181 min', '204 min', '32 min', '35 min', '167 min',\n",
       "       '16 Seasons', '179 min', '193 min', '13 min', '214 min', '17 min',\n",
       "       '173 min', '192 min', '209 min', '187 min', '41 min', '182 min',\n",
       "       '224 min', '233 min', '189 min', '152 min', '19 min', '15 Seasons',\n",
       "       '208 min', '237 min', '31 min', '178 min', '230 min', '194 min',\n",
       "       '228 min', '195 min', '3 min', '16 min', '5 min', '18 min',\n",
       "       '205 min', '190 min', '36 min', '201 min', '253 min', '203 min',\n",
       "       '191 min'], dtype=object)"
      ]
     },
     "execution_count": 55,
     "metadata": {},
     "output_type": "execute_result"
    }
   ],
   "source": [
    "df.Duration.unique()"
   ]
  },
  {
   "cell_type": "code",
   "execution_count": 56,
   "id": "43dbc009-0303-4357-8ce0-93bf87d728ca",
   "metadata": {},
   "outputs": [],
   "source": [
    "# Exploding the columns into two new columns\n",
    "df[[\"min_or_season\", \"unit\"]] = df.Duration.str.split(\" \", expand = True)"
   ]
  },
  {
   "cell_type": "code",
   "execution_count": 57,
   "id": "9ccbad26-9c54-4d41-bb87-16aef236f7d7",
   "metadata": {},
   "outputs": [],
   "source": [
    "# CHanging the datatype\n",
    "\n",
    "df['min_or_season'] = pd.to_numeric(df['min_or_season'])"
   ]
  },
  {
   "cell_type": "code",
   "execution_count": 58,
   "id": "e9aa7471-9f6a-4cff-b0f0-a8a58787b6e3",
   "metadata": {},
   "outputs": [
    {
     "name": "stdout",
     "output_type": "stream",
     "text": [
      "The maximum duration of the movie available in the above dataset is 312\n"
     ]
    }
   ],
   "source": [
    "# Lets now check the maximum duration of the movie\n",
    "\n",
    "max_duration = df['min_or_season'].max()\n",
    "print(f\"The maximum duration of the movie available in the above dataset is {max_duration}\")"
   ]
  },
  {
   "cell_type": "code",
   "execution_count": 59,
   "id": "dedb7c58-0133-4b15-8ed6-fe32343143c0",
   "metadata": {},
   "outputs": [
    {
     "data": {
      "text/plain": [
       "array(['Seasons', 'min', 'Season'], dtype=object)"
      ]
     },
     "execution_count": 59,
     "metadata": {},
     "output_type": "execute_result"
    }
   ],
   "source": [
    "df['unit'].unique()"
   ]
  },
  {
   "cell_type": "code",
   "execution_count": 60,
   "id": "e9a3c96f-769e-4260-b959-176303e74614",
   "metadata": {},
   "outputs": [
    {
     "name": "stdout",
     "output_type": "stream",
     "text": [
      "The movie with maximum duration in the Netflix dataset is 312\n"
     ]
    }
   ],
   "source": [
    "# As the min_or_season column contains both Season and minutes so we need to first filter \n",
    "max_duration = df[df['unit'] == \"min\"][\"min_or_season\"].max()\n",
    "print(f\"The movie with maximum duration in the Netflix dataset is {max_duration}\")"
   ]
  },
  {
   "cell_type": "raw",
   "id": "4d1c8f36-93c5-473a-9625-f9debdac4be6",
   "metadata": {},
   "source": [
    "That's pretty long movie though. Let's go for the minimum duration one"
   ]
  },
  {
   "cell_type": "code",
   "execution_count": 61,
   "id": "df161c68-5534-4c47-9d43-d0aa40fd4b31",
   "metadata": {},
   "outputs": [
    {
     "name": "stdout",
     "output_type": "stream",
     "text": [
      "The movie with mimimum duration in the Netflix dataset is 3\n"
     ]
    }
   ],
   "source": [
    "min_duration = df[df['unit'] == \"min\"][\"min_or_season\"].min()\n",
    "print(f\"The movie with mimimum duration in the Netflix dataset is {min_duration}\")"
   ]
  },
  {
   "cell_type": "raw",
   "id": "14a7e004-14ca-4804-a5ed-1cb2fd71df84",
   "metadata": {},
   "source": [
    "This is a very short movie"
   ]
  },
  {
   "cell_type": "code",
   "execution_count": 62,
   "id": "f90a07f8-d24f-47e3-b354-5e93e895a7cf",
   "metadata": {},
   "outputs": [
    {
     "data": {
      "text/plain": [
       "16"
      ]
     },
     "execution_count": 62,
     "metadata": {},
     "output_type": "execute_result"
    }
   ],
   "source": [
    "df[df['unit'] == \"Seasons\"][\"min_or_season\"].max()"
   ]
  },
  {
   "cell_type": "raw",
   "id": "a4825a6e-22fc-4ac7-b05d-49097acec710",
   "metadata": {},
   "source": [
    "Let's talk about the TV Shows now"
   ]
  },
  {
   "cell_type": "code",
   "execution_count": 63,
   "id": "20637948-44b9-4b4d-83be-387e42d59a78",
   "metadata": {},
   "outputs": [
    {
     "data": {
      "text/html": [
       "<div>\n",
       "<style scoped>\n",
       "    .dataframe tbody tr th:only-of-type {\n",
       "        vertical-align: middle;\n",
       "    }\n",
       "\n",
       "    .dataframe tbody tr th {\n",
       "        vertical-align: top;\n",
       "    }\n",
       "\n",
       "    .dataframe thead th {\n",
       "        text-align: right;\n",
       "    }\n",
       "</style>\n",
       "<table border=\"1\" class=\"dataframe\">\n",
       "  <thead>\n",
       "    <tr style=\"text-align: right;\">\n",
       "      <th></th>\n",
       "      <th>Show_Id</th>\n",
       "      <th>Category</th>\n",
       "      <th>Title</th>\n",
       "      <th>Director</th>\n",
       "      <th>Cast</th>\n",
       "      <th>Country</th>\n",
       "      <th>Release_Date</th>\n",
       "      <th>Rating</th>\n",
       "      <th>Duration</th>\n",
       "      <th>Type</th>\n",
       "      <th>Description</th>\n",
       "      <th>date_of_release</th>\n",
       "      <th>year_of_release</th>\n",
       "      <th>min_or_season</th>\n",
       "      <th>unit</th>\n",
       "    </tr>\n",
       "  </thead>\n",
       "  <tbody>\n",
       "    <tr>\n",
       "      <th>0</th>\n",
       "      <td>s1</td>\n",
       "      <td>TV Show</td>\n",
       "      <td>3%</td>\n",
       "      <td>NaN</td>\n",
       "      <td>João Miguel, Bianca Comparato, Michel Gomes, R...</td>\n",
       "      <td>Brazil</td>\n",
       "      <td>August 14, 2020</td>\n",
       "      <td>TV-MA</td>\n",
       "      <td>4 Seasons</td>\n",
       "      <td>International TV Shows, TV Dramas, TV Sci-Fi &amp;...</td>\n",
       "      <td>In a future where the elite inhabit an island ...</td>\n",
       "      <td>2020-08-14</td>\n",
       "      <td>2020.0</td>\n",
       "      <td>4</td>\n",
       "      <td>Seasons</td>\n",
       "    </tr>\n",
       "    <tr>\n",
       "      <th>5</th>\n",
       "      <td>s6</td>\n",
       "      <td>TV Show</td>\n",
       "      <td>46</td>\n",
       "      <td>Serdar Akar</td>\n",
       "      <td>Erdal Beşikçioğlu, Yasemin Allen, Melis Birkan...</td>\n",
       "      <td>Turkey</td>\n",
       "      <td>July 1, 2017</td>\n",
       "      <td>TV-MA</td>\n",
       "      <td>1 Season</td>\n",
       "      <td>International TV Shows, TV Dramas, TV Mysteries</td>\n",
       "      <td>A genetics professor experiments with a treatm...</td>\n",
       "      <td>2017-07-01</td>\n",
       "      <td>2017.0</td>\n",
       "      <td>1</td>\n",
       "      <td>Season</td>\n",
       "    </tr>\n",
       "  </tbody>\n",
       "</table>\n",
       "</div>"
      ],
      "text/plain": [
       "  Show_Id Category Title     Director  \\\n",
       "0      s1  TV Show    3%          NaN   \n",
       "5      s6  TV Show    46  Serdar Akar   \n",
       "\n",
       "                                                Cast Country     Release_Date  \\\n",
       "0  João Miguel, Bianca Comparato, Michel Gomes, R...  Brazil  August 14, 2020   \n",
       "5  Erdal Beşikçioğlu, Yasemin Allen, Melis Birkan...  Turkey     July 1, 2017   \n",
       "\n",
       "  Rating   Duration                                               Type  \\\n",
       "0  TV-MA  4 Seasons  International TV Shows, TV Dramas, TV Sci-Fi &...   \n",
       "5  TV-MA   1 Season    International TV Shows, TV Dramas, TV Mysteries   \n",
       "\n",
       "                                         Description date_of_release  \\\n",
       "0  In a future where the elite inhabit an island ...      2020-08-14   \n",
       "5  A genetics professor experiments with a treatm...      2017-07-01   \n",
       "\n",
       "   year_of_release  min_or_season     unit  \n",
       "0           2020.0              4  Seasons  \n",
       "5           2017.0              1   Season  "
      ]
     },
     "execution_count": 63,
     "metadata": {},
     "output_type": "execute_result"
    }
   ],
   "source": [
    "tv_shows = df[df.Category  == \"TV Show\"]\n",
    "tv_shows.head(2)"
   ]
  },
  {
   "cell_type": "markdown",
   "id": "1b144f83-fb58-4990-826d-200d7a570363",
   "metadata": {},
   "source": [
    "Let's find out the TV Shows by countries"
   ]
  },
  {
   "cell_type": "code",
   "execution_count": 64,
   "id": "b6b3e36c-20ce-44fc-a88c-c91de91ae8fa",
   "metadata": {},
   "outputs": [
    {
     "data": {
      "text/plain": [
       "Country\n",
       "United States                     705\n",
       "United Kingdom                    204\n",
       "Japan                             157\n",
       "South Korea                       147\n",
       "India                              71\n",
       "                                 ... \n",
       "Mexico, Spain                       1\n",
       "China, Hong Kong                    1\n",
       "Mauritius, South Africa             1\n",
       "Malaysia, Singapore, Hong Kong      1\n",
       "Uruguay, Germany                    1\n",
       "Name: Country, Length: 183, dtype: int64"
      ]
     },
     "execution_count": 64,
     "metadata": {},
     "output_type": "execute_result"
    }
   ],
   "source": [
    "tv_shows.groupby(\"Country\")[\"Country\"].count().sort_values(ascending = False)"
   ]
  },
  {
   "cell_type": "code",
   "execution_count": 65,
   "id": "4044bd80-e4d4-4f9a-b550-9015b8c47cd6",
   "metadata": {},
   "outputs": [
    {
     "data": {
      "image/png": "[encoded data removed]",
      "text/plain": [
       "<Figure size 640x480 with 1 Axes>"
      ]
     },
     "metadata": {},
     "output_type": "display_data"
    }
   ],
   "source": [
    "tv_shows.groupby(\"Country\")[\"Country\"].count().sort_values(ascending = False).head(10).plot(kind = 'barh', color = color)\n",
    "plt.gca().invert_yaxis() # used to invvert the y-axis\n",
    "plt.title(\"Top TV Shows country wise\")\n",
    "plt.show()"
   ]
  },
  {
   "cell_type": "markdown",
   "id": "ebe425eb-f3a4-4951-bd92-9edf58b70555",
   "metadata": {},
   "source": [
    "As we could see from our dataset United States here as well is dominating followed by United Kingdom and then Japan"
   ]
  },
  {
   "cell_type": "markdown",
   "id": "b02d1f7c-6b67-4877-bab3-9faa6d2a2551",
   "metadata": {},
   "source": [
    "I want to see a TV Show which could be either Crime TV or Action"
   ]
  },
  {
   "cell_type": "code",
   "execution_count": 66,
   "id": "d10aecd4-d2be-4031-bf16-55de1350c1b4",
   "metadata": {},
   "outputs": [
    {
     "data": {
      "text/html": [
       "<div>\n",
       "<style scoped>\n",
       "    .dataframe tbody tr th:only-of-type {\n",
       "        vertical-align: middle;\n",
       "    }\n",
       "\n",
       "    .dataframe tbody tr th {\n",
       "        vertical-align: top;\n",
       "    }\n",
       "\n",
       "    .dataframe thead th {\n",
       "        text-align: right;\n",
       "    }\n",
       "</style>\n",
       "<table border=\"1\" class=\"dataframe\">\n",
       "  <thead>\n",
       "    <tr style=\"text-align: right;\">\n",
       "      <th></th>\n",
       "      <th>Show_Id</th>\n",
       "      <th>Category</th>\n",
       "      <th>Title</th>\n",
       "      <th>Director</th>\n",
       "      <th>Cast</th>\n",
       "      <th>Country</th>\n",
       "      <th>Release_Date</th>\n",
       "      <th>Rating</th>\n",
       "      <th>Duration</th>\n",
       "      <th>Type</th>\n",
       "      <th>Description</th>\n",
       "      <th>date_of_release</th>\n",
       "      <th>year_of_release</th>\n",
       "      <th>min_or_season</th>\n",
       "      <th>unit</th>\n",
       "    </tr>\n",
       "  </thead>\n",
       "  <tbody>\n",
       "    <tr>\n",
       "      <th>11</th>\n",
       "      <td>s12</td>\n",
       "      <td>TV Show</td>\n",
       "      <td>1983</td>\n",
       "      <td>NaN</td>\n",
       "      <td>Robert Więckiewicz, Maciej Musiał, Michalina O...</td>\n",
       "      <td>Poland, United States</td>\n",
       "      <td>November 30, 2018</td>\n",
       "      <td>TV-MA</td>\n",
       "      <td>1 Season</td>\n",
       "      <td>Crime TV Shows, International TV Shows, TV Dramas</td>\n",
       "      <td>In this dark alt-history thriller, a naïve law...</td>\n",
       "      <td>2018-11-30</td>\n",
       "      <td>2018.0</td>\n",
       "      <td>1</td>\n",
       "      <td>Season</td>\n",
       "    </tr>\n",
       "    <tr>\n",
       "      <th>12</th>\n",
       "      <td>s13</td>\n",
       "      <td>TV Show</td>\n",
       "      <td>1994</td>\n",
       "      <td>Diego Enrique Osorno</td>\n",
       "      <td>NaN</td>\n",
       "      <td>Mexico</td>\n",
       "      <td>May 17, 2019</td>\n",
       "      <td>TV-MA</td>\n",
       "      <td>1 Season</td>\n",
       "      <td>Crime TV Shows, Docuseries, International TV S...</td>\n",
       "      <td>Archival video and new interviews examine Mexi...</td>\n",
       "      <td>2019-05-17</td>\n",
       "      <td>2019.0</td>\n",
       "      <td>1</td>\n",
       "      <td>Season</td>\n",
       "    </tr>\n",
       "  </tbody>\n",
       "</table>\n",
       "</div>"
      ],
      "text/plain": [
       "   Show_Id Category Title              Director  \\\n",
       "11     s12  TV Show  1983                   NaN   \n",
       "12     s13  TV Show  1994  Diego Enrique Osorno   \n",
       "\n",
       "                                                 Cast                Country  \\\n",
       "11  Robert Więckiewicz, Maciej Musiał, Michalina O...  Poland, United States   \n",
       "12                                                NaN                 Mexico   \n",
       "\n",
       "         Release_Date Rating  Duration  \\\n",
       "11  November 30, 2018  TV-MA  1 Season   \n",
       "12       May 17, 2019  TV-MA  1 Season   \n",
       "\n",
       "                                                 Type  \\\n",
       "11  Crime TV Shows, International TV Shows, TV Dramas   \n",
       "12  Crime TV Shows, Docuseries, International TV S...   \n",
       "\n",
       "                                          Description date_of_release  \\\n",
       "11  In this dark alt-history thriller, a naïve law...      2018-11-30   \n",
       "12  Archival video and new interviews examine Mexi...      2019-05-17   \n",
       "\n",
       "    year_of_release  min_or_season    unit  \n",
       "11           2018.0              1  Season  \n",
       "12           2019.0              1  Season  "
      ]
     },
     "execution_count": 66,
     "metadata": {},
     "output_type": "execute_result"
    }
   ],
   "source": [
    "df_tv_crime_action = df[(df.Category == 'TV Show' ) & (df.Type.str.contains(r'Action|Crime TV'))]\n",
    "df_tv_crime_action.head(2)"
   ]
  },
  {
   "cell_type": "code",
   "execution_count": 67,
   "id": "f65a8b90-ae06-4925-9bb8-9ea3c1be0ca5",
   "metadata": {},
   "outputs": [
    {
     "name": "stdout",
     "output_type": "stream",
     "text": [
      "There are 541 options available for the same. Yeah!!🥳🥳 now I could choose the best of them and watch\n"
     ]
    }
   ],
   "source": [
    "print(f\"There are {df_tv_crime_action.shape[0]} options available for the same. Yeah!!🥳🥳 now I could choose the best of them and watch\")"
   ]
  },
  {
   "cell_type": "markdown",
   "id": "90df6532-acae-4dc6-bdf3-908b71055caf",
   "metadata": {},
   "source": [
    "It was fun working on the Netflix Dataset. I enjoyed every bits and pieces. ❤️"
   ]
  },
  {
   "cell_type": "code",
   "execution_count": null,
   "id": "41ad10cc-e382-4810-a451-3c93808a6153",
   "metadata": {},
   "outputs": [],
   "source": []
  }
 ],
 "metadata": {
  "kernelspec": {
   "display_name": "Python 3 (ipykernel)",
   "language": "python",
   "name": "python3"
  },
  "language_info": {
   "codemirror_mode": {
    "name": "ipython",
    "version": 3
   },
   "file_extension": ".py",
   "mimetype": "text/x-python",
   "name": "python",
   "nbconvert_exporter": "python",
   "pygments_lexer": "ipython3",
   "version": "3.12.2"
  }
 },
 "nbformat": 4,
 "nbformat_minor": 5
}
